{
 "cells": [
  {
   "cell_type": "markdown",
   "metadata": {},
   "source": [
    "# XGBoost"
   ]
  },
  {
   "cell_type": "code",
   "execution_count": 1,
   "metadata": {
    "execution": {
     "iopub.execute_input": "2021-06-23T07:18:55.944946Z",
     "iopub.status.busy": "2021-06-23T07:18:55.944182Z",
     "iopub.status.idle": "2021-06-23T07:18:57.420270Z",
     "shell.execute_reply": "2021-06-23T07:18:57.419092Z",
     "shell.execute_reply.started": "2021-06-23T07:18:55.944881Z"
    },
    "tags": []
   },
   "outputs": [
    {
     "name": "stdout",
     "output_type": "stream",
     "text": [
      "lib path is successfully appended.\n"
     ]
    }
   ],
   "source": [
    "import sys, os\n",
    "def importOwnLib():\n",
    "    if '/home/miruware/aProjects/lib' not in sys.path:\n",
    "        sys.path.append('/home/miruware/aProjects/lib')\n",
    "        print(\"lib path is successfully appended.\")\n",
    "    else:\n",
    "        print(\"lib path is already exists.\")\n",
    "\n",
    "importOwnLib()\n",
    "\n",
    "import sonyalib as sonya\n",
    "import importlib\n",
    "importlib.reload(sonya)\n",
    "import pandas as pd\n",
    "import matplotlib.pyplot as plt\n",
    "from pprint import pprint\n",
    "import numpy as np\n",
    "\n",
    "from sklearn.metrics import accuracy_score, roc_auc_score, roc_curve\n",
    "from sklearn.ensemble import GradientBoostingClassifier\n",
    "from sklearn.model_selection import cross_val_score, cross_validate, GridSearchCV, StratifiedKFold\n",
    "import xgboost as xgb\n",
    "from xgboost import XGBClassifier"
   ]
  },
  {
   "cell_type": "code",
   "execution_count": 2,
   "metadata": {
    "execution": {
     "iopub.execute_input": "2021-06-23T07:19:00.264956Z",
     "iopub.status.busy": "2021-06-23T07:19:00.264376Z",
     "iopub.status.idle": "2021-06-23T07:19:00.468639Z",
     "shell.execute_reply": "2021-06-23T07:19:00.467941Z",
     "shell.execute_reply.started": "2021-06-23T07:19:00.264907Z"
    },
    "tags": []
   },
   "outputs": [],
   "source": [
    "# fit random seed for reproductivity\n",
    "seed = 7\n",
    "np.random.seed(seed)\n",
    "\n",
    "# Load metadata\n",
    "file_path_train = './BRC_input_201116_train.xlsx' # train\n",
    "file_path_test = './BRC_input_201116_test.xlsx' # test\n",
    "meta_train = sonya.get_normalized_metadata(file_path_train)\n",
    "meta_test = sonya.get_normalized_metadata(file_path_test)\n",
    "properties = [\n",
    "    'sex',\n",
    "    'age',\n",
    "    'LR',\n",
    "    'cT',\n",
    "    'cN',\n",
    "    'cAverage',\n",
    "    'cSD',\n",
    "    'aAverage',\n",
    "    'aSD',\n",
    "    'lMax',\n",
    "    'homogeneous',\n",
    "    'hetero',\n",
    "    'rim',\n",
    "    'clustered',\n",
    "    'non-mass',\n",
    "    'AorCa',\n",
    "    'LymAo',\n",
    "    'LymCa'\n",
    "]\n",
    "\n",
    "num_properties = len(properties)\n",
    "\n",
    "X_train = meta_train[properties]\n",
    "y_train = meta_train['label']\n",
    "X_test = meta_test[properties]\n",
    "y_test = meta_test['label']"
   ]
  },
  {
   "cell_type": "code",
   "execution_count": 3,
   "metadata": {
    "execution": {
     "iopub.execute_input": "2021-06-23T07:19:01.211889Z",
     "iopub.status.busy": "2021-06-23T07:19:01.211299Z",
     "iopub.status.idle": "2021-06-23T07:19:01.222899Z",
     "shell.execute_reply": "2021-06-23T07:19:01.221513Z",
     "shell.execute_reply.started": "2021-06-23T07:19:01.211841Z"
    },
    "tags": []
   },
   "outputs": [
    {
     "name": "stdout",
     "output_type": "stream",
     "text": [
      "Training Features Shape: (196, 18)\n",
      "Training Labels Shape: (196,)\n",
      "Testing Features Shape: (84, 18)\n",
      "Testing Labels Shape: (84,)\n"
     ]
    }
   ],
   "source": [
    "print('Training Features Shape:', X_train.shape)\n",
    "print('Training Labels Shape:', y_train.shape)\n",
    "print('Testing Features Shape:', X_test.shape)\n",
    "print('Testing Labels Shape:', y_test.shape)"
   ]
  },
  {
   "cell_type": "code",
   "execution_count": 7,
   "metadata": {
    "execution": {
     "iopub.execute_input": "2021-06-23T07:32:48.526626Z",
     "iopub.status.busy": "2021-06-23T07:32:48.526037Z",
     "iopub.status.idle": "2021-06-23T07:32:48.545748Z",
     "shell.execute_reply": "2021-06-23T07:32:48.544502Z",
     "shell.execute_reply.started": "2021-06-23T07:32:48.526576Z"
    },
    "tags": []
   },
   "outputs": [
    {
     "name": "stdout",
     "output_type": "stream",
     "text": [
      "Parameters currently in use: \n",
      "\n",
      "{'base_score': None,\n",
      " 'booster': None,\n",
      " 'colsample_bylevel': None,\n",
      " 'colsample_bynode': None,\n",
      " 'colsample_bytree': None,\n",
      " 'gamma': None,\n",
      " 'gpu_id': None,\n",
      " 'importance_type': 'gain',\n",
      " 'interaction_constraints': None,\n",
      " 'learning_rate': None,\n",
      " 'max_delta_step': None,\n",
      " 'max_depth': None,\n",
      " 'min_child_weight': None,\n",
      " 'missing': nan,\n",
      " 'monotone_constraints': None,\n",
      " 'n_estimators': 100,\n",
      " 'n_jobs': None,\n",
      " 'num_parallel_tree': None,\n",
      " 'objective': 'binary:logistic',\n",
      " 'random_state': 42,\n",
      " 'reg_alpha': None,\n",
      " 'reg_lambda': None,\n",
      " 'scale_pos_weight': None,\n",
      " 'subsample': None,\n",
      " 'tree_method': None,\n",
      " 'validate_parameters': None,\n",
      " 'verbosity': None}\n"
     ]
    }
   ],
   "source": [
    "xgb_clf = XGBClassifier(random_state=42)\n",
    "\n",
    "print('Parameters currently in use: \\n')\n",
    "pprint(xgb_clf.get_params())"
   ]
  },
  {
   "cell_type": "code",
   "execution_count": 9,
   "metadata": {
    "execution": {
     "iopub.execute_input": "2021-06-23T07:41:15.149536Z",
     "iopub.status.busy": "2021-06-23T07:41:15.148870Z",
     "iopub.status.idle": "2021-06-23T07:41:15.161714Z",
     "shell.execute_reply": "2021-06-23T07:41:15.160490Z",
     "shell.execute_reply.started": "2021-06-23T07:41:15.149463Z"
    },
    "tags": []
   },
   "outputs": [
    {
     "name": "stdout",
     "output_type": "stream",
     "text": [
      "{'max_depth': [5, 10, 15, 20, 25, 30],\n",
      " 'n_estimators': [100, 200, 300, 400, 500, 600, 700, 800]}\n"
     ]
    }
   ],
   "source": [
    "# Number of trees in random forest\n",
    "n_estimators = [int(x) for x in np.linspace(start = 100, stop = 800, num = 8)]\n",
    "# Maximum number of levels in tree\n",
    "max_depth = [int(x) for x in np.linspace(start = 5, stop = 30, num = 6)]\n",
    "# Minimum number of samples required at each leaf node\n",
    "\n",
    "# Create the random grid\n",
    "xgb_param_grid = {'n_estimators': n_estimators,\n",
    "               'max_depth': max_depth\n",
    "                }\n",
    "\n",
    "pprint(xgb_param_grid)"
   ]
  },
  {
   "cell_type": "code",
   "execution_count": 11,
   "metadata": {
    "execution": {
     "iopub.execute_input": "2021-06-23T07:42:37.664987Z",
     "iopub.status.busy": "2021-06-23T07:42:37.664397Z",
     "iopub.status.idle": "2021-06-23T07:42:44.024681Z",
     "shell.execute_reply": "2021-06-23T07:42:44.023730Z",
     "shell.execute_reply.started": "2021-06-23T07:42:37.664937Z"
    },
    "tags": []
   },
   "outputs": [
    {
     "name": "stdout",
     "output_type": "stream",
     "text": [
      "Fitting 5 folds for each of 48 candidates, totalling 240 fits\n"
     ]
    },
    {
     "data": {
      "text/plain": [
       "GridSearchCV(cv=5,\n",
       "             estimator=XGBClassifier(base_score=None, booster=None,\n",
       "                                     colsample_bylevel=None,\n",
       "                                     colsample_bynode=None,\n",
       "                                     colsample_bytree=None, gamma=None,\n",
       "                                     gpu_id=None, importance_type='gain',\n",
       "                                     interaction_constraints=None,\n",
       "                                     learning_rate=None, max_delta_step=None,\n",
       "                                     max_depth=None, min_child_weight=None,\n",
       "                                     missing=nan, monotone_constraints=None,\n",
       "                                     n_estimators=100, n_jobs=None,\n",
       "                                     num_parallel_tree=None, random_state=42,\n",
       "                                     reg_alpha=None, reg_lambda=None,\n",
       "                                     scale_pos_weight=None, subsample=None,\n",
       "                                     tree_method=None, validate_parameters=None,\n",
       "                                     verbosity=None),\n",
       "             n_jobs=-1,\n",
       "             param_grid={'max_depth': [5, 10, 15, 20, 25, 30],\n",
       "                         'n_estimators': [100, 200, 300, 400, 500, 600, 700,\n",
       "                                          800]},\n",
       "             return_train_score=True, scoring='accuracy', verbose=2)"
      ]
     },
     "execution_count": 11,
     "metadata": {},
     "output_type": "execute_result"
    }
   ],
   "source": [
    "xgb_clf = XGBClassifier(random_state = 42)\n",
    "\n",
    "XGB_gridSearch = GridSearchCV(estimator=xgb_clf,\n",
    "                              param_grid = xgb_param_grid, \n",
    "                              scoring = 'accuracy', \n",
    "                              n_jobs = -1, \n",
    "                              cv = 5, \n",
    "                              verbose = 2, \n",
    "                              return_train_score = True)\n",
    "\n",
    "XGB_gridSearch.fit(X_train, y_train)"
   ]
  },
  {
   "cell_type": "code",
   "execution_count": 12,
   "metadata": {
    "execution": {
     "iopub.execute_input": "2021-06-23T07:43:11.740522Z",
     "iopub.status.busy": "2021-06-23T07:43:11.739905Z",
     "iopub.status.idle": "2021-06-23T07:43:11.750289Z",
     "shell.execute_reply": "2021-06-23T07:43:11.748803Z",
     "shell.execute_reply.started": "2021-06-23T07:43:11.740465Z"
    }
   },
   "outputs": [
    {
     "data": {
      "text/plain": [
       "{'max_depth': 5, 'n_estimators': 300}"
      ]
     },
     "execution_count": 12,
     "metadata": {},
     "output_type": "execute_result"
    }
   ],
   "source": [
    "XGB_gridSearch.best_params_"
   ]
  },
  {
   "cell_type": "code",
   "execution_count": 13,
   "metadata": {
    "execution": {
     "iopub.execute_input": "2021-06-23T07:44:54.670211Z",
     "iopub.status.busy": "2021-06-23T07:44:54.669615Z",
     "iopub.status.idle": "2021-06-23T07:44:54.778872Z",
     "shell.execute_reply": "2021-06-23T07:44:54.778257Z",
     "shell.execute_reply.started": "2021-06-23T07:44:54.670161Z"
    }
   },
   "outputs": [
    {
     "data": {
      "text/plain": [
       "array([0.91666667, 0.76190476, 0.89285714, 0.75      , 0.70238095,\n",
       "       0.9047619 , 0.77142857, 0.8974359 , 0.87179487, 0.75641026])"
      ]
     },
     "execution_count": 13,
     "metadata": {},
     "output_type": "execute_result"
    }
   ],
   "source": [
    "xgb_clf_best = XGBClassifier(n_estimator = 300, \n",
    "                             max_depth = 5)\n",
    "\n",
    "scoring = 'roc_auc'\n",
    "\n",
    "score = cross_val_score(xgb_clf_best, X_train, y_train, cv = 10, n_jobs = -1, scoring = scoring)\n",
    "\n",
    "score"
   ]
  },
  {
   "cell_type": "code",
   "execution_count": 15,
   "metadata": {
    "execution": {
     "iopub.execute_input": "2021-06-23T07:45:51.218474Z",
     "iopub.status.busy": "2021-06-23T07:45:51.217898Z",
     "iopub.status.idle": "2021-06-23T07:45:51.231928Z",
     "shell.execute_reply": "2021-06-23T07:45:51.230167Z",
     "shell.execute_reply.started": "2021-06-23T07:45:51.218425Z"
    },
    "tags": []
   },
   "outputs": [
    {
     "name": "stdout",
     "output_type": "stream",
     "text": [
      "0.07678711165319828\n",
      "0.8225641025641026\n",
      "0.7749709576812289 0.8701572474469763\n"
     ]
    }
   ],
   "source": [
    "from math import sqrt\n",
    "x_bar = np.mean(score)\n",
    "s = np.std(score)\n",
    "n = len(score)\n",
    "\n",
    "z = 1.96\n",
    "lower = x_bar - (z * (s / sqrt(n)))\n",
    "upper = x_bar + (z * (s / sqrt(n)))\n",
    "\n",
    "print(s)\n",
    "print(x_bar)\n",
    "print(lower, upper)"
   ]
  }
 ],
 "metadata": {
  "kernelspec": {
   "display_name": "env4_tf1",
   "language": "python",
   "name": "env4_tf1"
  },
  "language_info": {
   "codemirror_mode": {
    "name": "ipython",
    "version": 3
   },
   "file_extension": ".py",
   "mimetype": "text/x-python",
   "name": "python",
   "nbconvert_exporter": "python",
   "pygments_lexer": "ipython3",
   "version": "3.6.8"
  }
 },
 "nbformat": 4,
 "nbformat_minor": 4
}
