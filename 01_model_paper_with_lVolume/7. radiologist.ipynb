{
 "cells": [
  {
   "cell_type": "code",
   "execution_count": 3,
   "id": "53d06a4c-740e-4e3d-bb3e-51f49d712c89",
   "metadata": {
    "execution": {
     "iopub.execute_input": "2021-06-28T09:57:45.715878Z",
     "iopub.status.busy": "2021-06-28T09:57:45.715293Z",
     "iopub.status.idle": "2021-06-28T09:57:45.729703Z",
     "shell.execute_reply": "2021-06-28T09:57:45.728358Z",
     "shell.execute_reply.started": "2021-06-28T09:57:45.715828Z"
    },
    "tags": []
   },
   "outputs": [
    {
     "name": "stdout",
     "output_type": "stream",
     "text": [
      "lib path is already exists.\n"
     ]
    }
   ],
   "source": [
    "import warnings\n",
    "\n",
    "warnings.filterwarnings(action='ignore')\n",
    "import os, sys\n",
    "import pandas as pd\n",
    "import numpy as np\n",
    "\n",
    "def importOwnLib():\n",
    "    if '/home/miruware/aProjects/lib' not in sys.path:\n",
    "        sys.path.append('/home/miruware/aProjects/lib')\n",
    "        print(\"lib path is successfully appended.\")\n",
    "    else:\n",
    "        print(\"lib path is already exists.\")\n",
    "importOwnLib()\n",
    "import sonyalib as sonya\n",
    "\n",
    "import importlib\n",
    "importlib.reload(sonya)\n",
    "\n",
    "\n",
    "from sklearn.metrics import auc, roc_curve\n",
    "import matplotlib.pyplot as plt\n",
    "from sklearn.metrics import confusion_matrix"
   ]
  },
  {
   "cell_type": "code",
   "execution_count": 2,
   "id": "f20af87f-2d9d-430d-beba-f68921a76ec5",
   "metadata": {
    "execution": {
     "iopub.execute_input": "2021-06-28T09:54:19.842348Z",
     "iopub.status.busy": "2021-06-28T09:54:19.841795Z",
     "iopub.status.idle": "2021-06-28T09:54:19.855987Z",
     "shell.execute_reply": "2021-06-28T09:54:19.854838Z",
     "shell.execute_reply.started": "2021-06-28T09:54:19.842300Z"
    }
   },
   "outputs": [],
   "source": [
    "def confusion_metrics(conf_matrix):\n",
    "    # save confusion matrix and slice into four pieces\n",
    "    TP = conf_matrix[1][1]\n",
    "    TN = conf_matrix[0][0]\n",
    "    FP = conf_matrix[0][1]\n",
    "    FN = conf_matrix[1][0]\n",
    "    print('True Positives:', TP)\n",
    "    print('True Negatives:', TN)\n",
    "    print('False Positives:', FP)\n",
    "    print('False Negatives:', FN)\n",
    "\n",
    "    # calculate accuracy\n",
    "    conf_accuracy = (float(TP + TN) / float(TP + TN + FP + FN))\n",
    "\n",
    "    # calculate mis-classification\n",
    "    conf_misclassification = 1 - conf_accuracy\n",
    "\n",
    "    # calculate the sensitivity\n",
    "    conf_sensitivity = (TP / float(TP + FN))\n",
    "    # calculate the specificity\n",
    "    conf_specificity = (TN / float(TN + FP))\n",
    "\n",
    "    # calculate precision\n",
    "    conf_precision = (TN / float(TN + FP))\n",
    "    # calculate f_1 score\n",
    "    conf_f1 = 2 * ((conf_precision * conf_sensitivity) / (conf_precision + conf_sensitivity))\n",
    "    print('-' * 50)\n",
    "    print(f'Accuracy: {round(conf_accuracy, 2)}')\n",
    "    print(f'Mis-Classification: {round(conf_misclassification, 2)}')\n",
    "    print(f'Sensitivity: {round(conf_sensitivity, 2)}')\n",
    "    print(f'Specificity: {round(conf_specificity, 2)}')\n",
    "    print(f'Precision: {round(conf_precision, 2)}')\n",
    "    print(f'f_1 Score: {round(conf_f1, 2)}')\n",
    "\n",
    "    return conf_sensitivity,  conf_specificity\n"
   ]
  },
  {
   "cell_type": "code",
   "execution_count": 4,
   "id": "caaee603-efd0-4d96-bc91-e336e84fbcd4",
   "metadata": {
    "execution": {
     "iopub.execute_input": "2021-06-28T09:57:53.062924Z",
     "iopub.status.busy": "2021-06-28T09:57:53.062224Z",
     "iopub.status.idle": "2021-06-28T09:57:53.187119Z",
     "shell.execute_reply": "2021-06-28T09:57:53.186275Z",
     "shell.execute_reply.started": "2021-06-28T09:57:53.062872Z"
    }
   },
   "outputs": [],
   "source": [
    "file_path0 = './BRC_input_201116_train.xlsx'\n",
    "file_path1 = './BRC_input_201116_test.xlsx'\n",
    "meta_train = sonya.get_normalized_metadata(file_path0)\n",
    "meta_test = sonya.get_normalized_metadata(file_path1)\n",
    "# target_dir = './model/'\n",
    "\n",
    "X_train = meta_train['cN']\n",
    "y_train = meta_train['label']\n",
    "\n",
    "X_test = meta_test['cN']\n",
    "y_test = meta_test['label']\n",
    "\n",
    "# num_features = len(properties)\n"
   ]
  },
  {
   "cell_type": "code",
   "execution_count": 8,
   "id": "817076a0-a0c6-4697-8664-6200b12bf928",
   "metadata": {
    "execution": {
     "iopub.execute_input": "2021-06-28T09:59:07.838369Z",
     "iopub.status.busy": "2021-06-28T09:59:07.837787Z",
     "iopub.status.idle": "2021-06-28T09:59:07.968452Z",
     "shell.execute_reply": "2021-06-28T09:59:07.967096Z",
     "shell.execute_reply.started": "2021-06-28T09:59:07.838320Z"
    },
    "tags": []
   },
   "outputs": [
    {
     "name": "stdout",
     "output_type": "stream",
     "text": [
      "radiologist\n",
      "[[ 42  17]\n",
      " [107  30]]\n",
      "True Positives: 30\n",
      "True Negatives: 42\n",
      "False Positives: 17\n",
      "False Negatives: 107\n",
      "--------------------------------------------------\n",
      "Accuracy: 0.37\n",
      "Mis-Classification: 0.63\n",
      "Sensitivity: 0.22\n",
      "Specificity: 0.71\n",
      "Precision: 0.71\n",
      "f_1 Score: 0.33\n"
     ]
    },
    {
     "data": {
      "image/png": "[encoded data removed]",
      "text/plain": [
       "<Figure size 432x288 with 1 Axes>"
      ]
     },
     "metadata": {
      "needs_background": "light"
     },
     "output_type": "display_data"
    }
   ],
   "source": [
    "# ========radiologist =======\n",
    "y_radio = (X_train > 0.25).astype(int)\n",
    "#     y_radio = X_test['cN']\n",
    "\n",
    "cm = confusion_matrix(y_train, y_radio)\n",
    "print(\"radiologist\")\n",
    "print(cm)\n",
    "sensi, speci = confusion_metrics(cm)\n",
    "radio_fpr, radio_tpr, radio_thresholds = roc_curve(y_train, y_radio) # radiologist\n",
    "radio_auc = auc(radio_fpr, radio_tpr)\n",
    "plt.plot(1-speci, sensi, color='blue', marker='.', label='Radiologist(AUC = %0.2f)' % (radio_auc), lw=2, alpha=1)\n",
    "\n",
    "plt.show()\n",
    "\n",
    "\n"
   ]
  },
  {
   "cell_type": "code",
   "execution_count": 9,
   "id": "a0eb9981-64c6-43ce-803b-14caac1e8c1c",
   "metadata": {
    "execution": {
     "iopub.execute_input": "2021-06-28T09:59:40.001837Z",
     "iopub.status.busy": "2021-06-28T09:59:40.001024Z",
     "iopub.status.idle": "2021-06-28T09:59:40.010192Z",
     "shell.execute_reply": "2021-06-28T09:59:40.008770Z",
     "shell.execute_reply.started": "2021-06-28T09:59:40.001780Z"
    }
   },
   "outputs": [
    {
     "data": {
      "text/plain": [
       "0.465421254484721"
      ]
     },
     "execution_count": 9,
     "metadata": {},
     "output_type": "execute_result"
    }
   ],
   "source": [
    "radio_auc"
   ]
  },
  {
   "cell_type": "code",
   "execution_count": null,
   "id": "d9b60535-ab1a-4ac2-8950-cbb587ad6def",
   "metadata": {},
   "outputs": [],
   "source": []
  }
 ],
 "metadata": {
  "kernelspec": {
   "display_name": "env4_tf1",
   "language": "python",
   "name": "env4_tf1"
  },
  "language_info": {
   "codemirror_mode": {
    "name": "ipython",
    "version": 3
   },
   "file_extension": ".py",
   "mimetype": "text/x-python",
   "name": "python",
   "nbconvert_exporter": "python",
   "pygments_lexer": "ipython3",
   "version": "3.6.8"
  }
 },
 "nbformat": 4,
 "nbformat_minor": 5
}
