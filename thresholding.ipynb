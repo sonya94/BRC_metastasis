{
 "cells": [
  {
   "cell_type": "code",
   "execution_count": 1,
   "metadata": {
    "execution": {
     "iopub.execute_input": "2021-07-21T04:15:16.911751Z",
     "iopub.status.busy": "2021-07-21T04:15:16.911272Z",
     "iopub.status.idle": "2021-07-21T04:15:17.699739Z",
     "shell.execute_reply": "2021-07-21T04:15:17.698859Z",
     "shell.execute_reply.started": "2021-07-21T04:15:16.911703Z"
    },
    "tags": []
   },
   "outputs": [],
   "source": [
    "import os, sys\n",
    "import numpy as np\n",
    "import pandas as pd\n",
    "import pydicom as dicom\n",
    "import cv2\n",
    "from PIL import Image\n",
    "from skimage.filters import try_all_threshold\n",
    "import matplotlib.pyplot as plt\n",
    "%matplotlib inline\n",
    "# import openpyxl\n",
    "import datetime\n",
    "from IPython.core.interactiveshell import InteractiveShell\n",
    "InteractiveShell.ast_node_interactivity = \"last_expr\"\n",
    "\n",
    "from IPython.display import display"
   ]
  },
  {
   "cell_type": "code",
   "execution_count": 2,
   "metadata": {},
   "outputs": [],
   "source": [
    "path = \"/Users/sonya/Downloads/BRC2019_Q_patch\"\n",
    "list_patch = os.listdir(path)\n",
    "list_patch_png = [file for file in list_patch if file.endswith('.png')]"
   ]
  },
  {
   "cell_type": "code",
   "execution_count": 4,
   "metadata": {},
   "outputs": [],
   "source": [
    "img_path = os.path.join(path,list_patch_png[0])"
   ]
  },
  {
   "cell_type": "code",
   "execution_count": 21,
   "metadata": {},
   "outputs": [],
   "source": [
    "img = cv2.imread(img_path, cv2.IMREAD_GRAYSCALE)"
   ]
  },
  {
   "cell_type": "code",
   "execution_count": 71,
   "metadata": {
    "execution": {
     "iopub.execute_input": "2021-07-20T06:16:25.406732Z",
     "iopub.status.busy": "2021-07-20T06:16:25.406138Z",
     "iopub.status.idle": "2021-07-20T06:16:25.428328Z",
     "shell.execute_reply": "2021-07-20T06:16:25.427041Z",
     "shell.execute_reply.started": "2021-07-20T06:16:25.406682Z"
    }
   },
   "outputs": [
    {
     "ename": "NameError",
     "evalue": "name 'path' is not defined",
     "output_type": "error",
     "traceback": [
      "\u001b[0;31m---------------------------------------------------------------------------\u001b[0m",
      "\u001b[0;31mNameError\u001b[0m                                 Traceback (most recent call last)",
      "\u001b[0;32m<ipython-input-71-c955d512dab5>\u001b[0m in \u001b[0;36m<module>\u001b[0;34m\u001b[0m\n\u001b[0;32m----> 1\u001b[0;31m \u001b[0mimg_path\u001b[0m \u001b[0;34m=\u001b[0m \u001b[0mos\u001b[0m\u001b[0;34m.\u001b[0m\u001b[0mpath\u001b[0m\u001b[0;34m.\u001b[0m\u001b[0mjoin\u001b[0m\u001b[0;34m(\u001b[0m\u001b[0mpath\u001b[0m\u001b[0;34m,\u001b[0m\u001b[0mlist_patch_png\u001b[0m\u001b[0;34m[\u001b[0m\u001b[0;36m10\u001b[0m\u001b[0;34m]\u001b[0m\u001b[0;34m)\u001b[0m\u001b[0;34m\u001b[0m\u001b[0;34m\u001b[0m\u001b[0m\n\u001b[0m\u001b[1;32m      2\u001b[0m \u001b[0mimg\u001b[0m \u001b[0;34m=\u001b[0m \u001b[0mcv2\u001b[0m\u001b[0;34m.\u001b[0m\u001b[0mimread\u001b[0m\u001b[0;34m(\u001b[0m\u001b[0mimg_path\u001b[0m\u001b[0;34m,\u001b[0m \u001b[0mcv2\u001b[0m\u001b[0;34m.\u001b[0m\u001b[0mIMREAD_GRAYSCALE\u001b[0m\u001b[0;34m)\u001b[0m\u001b[0;34m\u001b[0m\u001b[0;34m\u001b[0m\u001b[0m\n\u001b[1;32m      3\u001b[0m \u001b[0mpd\u001b[0m\u001b[0;34m.\u001b[0m\u001b[0mset_option\u001b[0m\u001b[0;34m(\u001b[0m\u001b[0;34m'display.max_rows'\u001b[0m\u001b[0;34m,\u001b[0m \u001b[0mimg\u001b[0m\u001b[0;34m.\u001b[0m\u001b[0mshape\u001b[0m\u001b[0;34m[\u001b[0m\u001b[0;36m0\u001b[0m\u001b[0;34m]\u001b[0m\u001b[0;34m+\u001b[0m\u001b[0;36m1\u001b[0m\u001b[0;34m)\u001b[0m\u001b[0;34m\u001b[0m\u001b[0;34m\u001b[0m\u001b[0m\n\u001b[1;32m      4\u001b[0m \u001b[0mplot0\u001b[0m \u001b[0;34m=\u001b[0m \u001b[0mplt\u001b[0m\u001b[0;34m.\u001b[0m\u001b[0mfigure\u001b[0m\u001b[0;34m(\u001b[0m\u001b[0;36m0\u001b[0m\u001b[0;34m)\u001b[0m\u001b[0;34m\u001b[0m\u001b[0;34m\u001b[0m\u001b[0m\n\u001b[1;32m      5\u001b[0m \u001b[0mplt\u001b[0m\u001b[0;34m.\u001b[0m\u001b[0mimshow\u001b[0m\u001b[0;34m(\u001b[0m\u001b[0mimg\u001b[0m\u001b[0;34m,\u001b[0m\u001b[0mcmap\u001b[0m\u001b[0;34m=\u001b[0m\u001b[0mplt\u001b[0m\u001b[0;34m.\u001b[0m\u001b[0mcm\u001b[0m\u001b[0;34m.\u001b[0m\u001b[0mbone\u001b[0m\u001b[0;34m)\u001b[0m\u001b[0;34m\u001b[0m\u001b[0;34m\u001b[0m\u001b[0m\n",
      "\u001b[0;31mNameError\u001b[0m: name 'path' is not defined"
     ]
    }
   ],
   "source": [
    "\n",
    "img_path = os.path.join(path,list_patch_png[10])\n",
    "img = cv2.imread(img_path, cv2.IMREAD_GRAYSCALE)\n",
    "plot0 = plt.figure(0)\n",
    "plt.imshow(img,cmap=plt.cm.bone)\n",
    "\n",
    "plot1 = plt.figure(1)\n",
    "plt.hist(img.ravel(), 256, [0,256]); \n",
    "ret,thresh = cv2.threshold(img,0,256,cv2.THRESH_BINARY+cv2.THRESH_OTSU)\n",
    "# ret,thresh = cv2.threshold(img,0,256,cv2.THRESH_OTSU)\n",
    "print(ret)\n",
    "\n",
    "plot2 = plt.figure(2)\n",
    "plt.imshow(thresh, cmap='gray')\n",
    "\n",
    "plt.show()\n"
   ]
  },
  {
   "cell_type": "code",
   "execution_count": 76,
   "metadata": {},
   "outputs": [
    {
     "data": {
      "image/png": "[encoded data removed]",
      "text/plain": [
       "<Figure size 720x576 with 8 Axes>"
      ]
     },
     "metadata": {
      "needs_background": "light"
     },
     "output_type": "display_data"
    }
   ],
   "source": [
    "# all threshold\n",
    "img_path = os.path.join(path,list_patch_png[14])\n",
    "img = cv2.imread(img_path, cv2.IMREAD_GRAYSCALE)\n",
    "fig,ax = try_all_threshold(img, figsize=(10,8), verbose=False)\n",
    "plt.show()"
   ]
  },
  {
   "cell_type": "code",
   "execution_count": 35,
   "metadata": {},
   "outputs": [
    {
     "name": "stdout",
     "output_type": "stream",
     "text": [
      "/Users/sonya/Downloads/BRC2019_Q_patch/254919_6_25971309_0108.png\n",
      "PNG\n",
      "L\n",
      "(50, 50)\n"
     ]
    }
   ],
   "source": [
    "image = Image.open(img_path)\n",
    "print(image.filename)\n",
    "print(image.format)\n",
    "print(image.mode)\n",
    "print(image.size)"
   ]
  },
  {
   "cell_type": "code",
   "execution_count": null,
   "metadata": {},
   "outputs": [],
   "source": [
    "PATH = '/mnt/8TBDisk/BRC/BRC2019_Q_test'"
   ]
  },
  {
   "cell_type": "code",
   "execution_count": 10,
   "metadata": {
    "execution": {
     "iopub.execute_input": "2021-07-20T00:38:32.217115Z",
     "iopub.status.busy": "2021-07-20T00:38:32.216534Z",
     "iopub.status.idle": "2021-07-20T00:38:32.310549Z",
     "shell.execute_reply": "2021-07-20T00:38:32.309917Z",
     "shell.execute_reply.started": "2021-07-20T00:38:32.217066Z"
    },
    "tags": []
   },
   "outputs": [
    {
     "name": "stdout",
     "output_type": "stream",
     "text": [
      "254663_9_25783148_0029.png\n",
      "도형의 갯수: 1(1)\n"
     ]
    },
    {
     "data": {
      "image/png": "[encoded data removed]",
      "text/plain": [
       "<Figure size 432x288 with 1 Axes>"
      ]
     },
     "metadata": {
      "needs_background": "light"
     },
     "output_type": "display_data"
    }
   ],
   "source": [
    "PATH = '/mnt/8TBDisk/BRC/BRC2019_Q_patch'\n",
    "img_list = os.listdir(PATH)\n",
    "print(img_list[0])\n",
    "img = cv2.imread(os.path.join(PATH, img_list[0]), cv2.IMREAD_GRAYSCALE)\n",
    "origin = img.copy()\n",
    "img2 = img.copy()\n",
    "# plot0 = plt.figure(0)\n",
    "# plt.imshow(img,cmap=plt.cm.bone)\n",
    "\n",
    "# plot1 = plt.figure(1)\n",
    "# plt.hist(img.ravel(), 256, [0,256]); \n",
    "ret,thresh = cv2.threshold(img,0,256,cv2.THRESH_BINARY+cv2.THRESH_OTSU)\n",
    "# 가장 바깥쪽 컨투어에 대해 모든 좌표 반환\n",
    "_, contour, hierarchy = cv2.findContours(thresh, cv2.RETR_EXTERNAL, cv2.CHAIN_APPROX_NONE)\n",
    "# 가장 바깥쪽 컨투어에 대해 꼭지점 좌표만 반환\n",
    "_, contour2, hierarchy = cv2.findContours(thresh, cv2.RETR_EXTERNAL, cv2.CHAIN_APPROX_SIMPLE)\n",
    "\n",
    "print('도형의 갯수: %d(%d)'% (len(contour), len(contour2)))\n",
    "\n",
    "# 모든 좌표를 갖는 컨투어 그리기, 초록색  ---⑥\n",
    "cv2.drawContours(img, contour, -1, (0,255,0), 4)\n",
    "# 꼭지점 좌표만을 갖는 컨투어 그리기, 초록색  ---⑦\n",
    "cv2.drawContours(img2, contour2, -1, (0,255,0), 4)\n",
    "\n",
    "# 컨투어 모든 좌표를 작은 파랑색 점(원)으로 표시 ---⑧\n",
    "for i in contour:\n",
    "    for j in i:\n",
    "        cv2.circle(img, tuple(j[0]), 1, (255,0,0), -1) \n",
    "\n",
    "# 컨투어 꼭지점 좌표를 작은 파랑색 점(원)으로 표시 ---⑨\n",
    "for i in contour2:\n",
    "    for j in i:\n",
    "        cv2.circle(img2, tuple(j[0]), 1, (255,0,0), -1) \n",
    "\n",
    "# 결과 출력 ---⑩\n",
    "# cv2.imshow('CHAIN_APPROX_NONE', img)\n",
    "# cv2.imshow('CHAIN_APPROX_SIMPLE', img2)\n",
    "# plt.imshow(im2)\n",
    "# plt.show()\n",
    "plt.imshow(origin, cmap='gray')\n",
    "plt.show()\n",
    "# cv2.waitKey(0)\n",
    "# cv2.destroyAllWindows()"
   ]
  },
  {
   "cell_type": "code",
   "execution_count": 22,
   "metadata": {
    "execution": {
     "iopub.execute_input": "2021-07-20T00:43:45.508076Z",
     "iopub.status.busy": "2021-07-20T00:43:45.507499Z",
     "iopub.status.idle": "2021-07-20T00:43:45.608842Z",
     "shell.execute_reply": "2021-07-20T00:43:45.608196Z",
     "shell.execute_reply.started": "2021-07-20T00:43:45.508027Z"
    },
    "tags": []
   },
   "outputs": [
    {
     "name": "stdout",
     "output_type": "stream",
     "text": [
      "254663_9_25783148_0029.png\n",
      "도형의 갯수: 1(1)\n"
     ]
    },
    {
     "data": {
      "image/png": "[encoded data removed]",
      "text/plain": [
       "<Figure size 432x288 with 1 Axes>"
      ]
     },
     "metadata": {
      "needs_background": "light"
     },
     "output_type": "display_data"
    }
   ],
   "source": [
    "PATH = '/mnt/8TBDisk/BRC/BRC2019_Q_patch'\n",
    "img_list = os.listdir(PATH)\n",
    "print(img_list[0])\n",
    "img = cv2.imread(os.path.join(PATH, img_list[0]), cv2.IMREAD_GRAYSCALE)\n",
    "# prin\n",
    "img2 = img.copy()\n",
    "# plot0 = plt.figure(0)\n",
    "# plt.imshow(img,cmap=plt.cm.bone)\n",
    "\n",
    "# plot1 = plt.figure(1)\n",
    "# plt.hist(img.ravel(), 256, [0,256]); \n",
    "ret,thresh = cv2.threshold(img,0,255,cv2.THRESH_BINARY+cv2.THRESH_OTSU)\n",
    "# 가장 바깥쪽 컨투어에 대해 모든 좌표 반환\n",
    "_, contour, hierarchy = cv2.findContours(thresh, cv2.RETR_EXTERNAL, cv2.CHAIN_APPROX_NONE)\n",
    "# 가장 바깥쪽 컨투어에 대해 꼭지점 좌표만 반환\n",
    "_, contour2, hierarchy = cv2.findContours(thresh, cv2.RETR_EXTERNAL, cv2.CHAIN_APPROX_SIMPLE)\n",
    "\n",
    "print('도형의 갯수: %d(%d)'% (len(contour), len(contour2)))\n",
    "\n",
    "for cnt in contour2:\n",
    "    cv2.drawContours(img, [cnt], 0, (255,0,0), thickness=cv2.FILLED)\n",
    "    \n",
    "    \n",
    "plt.imshow(img, cmap='gray')\n",
    "plt.show()\n",
    "\n",
    "# # 모든 좌표를 갖는 컨투어 그리기, 초록색  ---⑥\n",
    "# cv2.drawContours(img, contour, -1, (0,255,0), 4)\n",
    "# # 꼭지점 좌표만을 갖는 컨투어 그리기, 초록색  ---⑦\n",
    "# cv2.drawContours(img2, contour2, -1, (0,255,0), 4)\n"
   ]
  },
  {
   "cell_type": "code",
   "execution_count": 2,
   "metadata": {
    "execution": {
     "iopub.execute_input": "2021-07-20T07:35:53.166994Z",
     "iopub.status.busy": "2021-07-20T07:35:53.166398Z",
     "iopub.status.idle": "2021-07-20T07:35:53.475158Z",
     "shell.execute_reply": "2021-07-20T07:35:53.474013Z",
     "shell.execute_reply.started": "2021-07-20T07:35:53.166942Z"
    },
    "tags": []
   },
   "outputs": [
    {
     "name": "stdout",
     "output_type": "stream",
     "text": [
      "1364\n"
     ]
    },
    {
     "data": {
      "image/png": "[encoded data removed]",
      "text/plain": [
       "<Figure size 432x288 with 3 Axes>"
      ]
     },
     "metadata": {
      "needs_background": "light"
     },
     "output_type": "display_data"
    },
    {
     "ename": "ModuleNotFoundError",
     "evalue": "No module named 'openpyxl'",
     "output_type": "error",
     "traceback": [
      "\u001b[0;31m---------------------------------------------------------------------------\u001b[0m",
      "\u001b[0;31mModuleNotFoundError\u001b[0m                       Traceback (most recent call last)",
      "\u001b[0;32m<ipython-input-2-967aff543976>\u001b[0m in \u001b[0;36m<module>\u001b[0;34m\u001b[0m\n\u001b[1;32m     60\u001b[0m \u001b[0;34m\u001b[0m\u001b[0m\n\u001b[1;32m     61\u001b[0m \u001b[0;34m\u001b[0m\u001b[0m\n\u001b[0;32m---> 62\u001b[0;31m \u001b[0mrecord\u001b[0m\u001b[0;34m.\u001b[0m\u001b[0mto_excel\u001b[0m\u001b[0;34m(\u001b[0m\u001b[0mPATH_RECORD\u001b[0m\u001b[0;34m,\u001b[0m \u001b[0msheet_name\u001b[0m\u001b[0;34m=\u001b[0m\u001b[0;34m'sheet1'\u001b[0m\u001b[0;34m,\u001b[0m \u001b[0mindex\u001b[0m\u001b[0;34m=\u001b[0m\u001b[0;32mFalse\u001b[0m\u001b[0;34m)\u001b[0m\u001b[0;34m\u001b[0m\u001b[0;34m\u001b[0m\u001b[0m\n\u001b[0m\u001b[1;32m     63\u001b[0m \u001b[0;34m\u001b[0m\u001b[0m\n\u001b[1;32m     64\u001b[0m \u001b[0;31m#     for j in range (2):\u001b[0m\u001b[0;34m\u001b[0m\u001b[0;34m\u001b[0m\u001b[0;34m\u001b[0m\u001b[0m\n",
      "\u001b[0;32m~/anaconda3/lib/python3.6/site-packages/pandas/core/generic.py\u001b[0m in \u001b[0;36mto_excel\u001b[0;34m(self, excel_writer, sheet_name, na_rep, float_format, columns, header, index, index_label, startrow, startcol, engine, merge_cells, encoding, inf_rep, verbose, freeze_panes)\u001b[0m\n\u001b[1;32m   2030\u001b[0m             \u001b[0mstartcol\u001b[0m\u001b[0;34m=\u001b[0m\u001b[0mstartcol\u001b[0m\u001b[0;34m,\u001b[0m\u001b[0;34m\u001b[0m\u001b[0;34m\u001b[0m\u001b[0m\n\u001b[1;32m   2031\u001b[0m             \u001b[0mfreeze_panes\u001b[0m\u001b[0;34m=\u001b[0m\u001b[0mfreeze_panes\u001b[0m\u001b[0;34m,\u001b[0m\u001b[0;34m\u001b[0m\u001b[0;34m\u001b[0m\u001b[0m\n\u001b[0;32m-> 2032\u001b[0;31m             \u001b[0mengine\u001b[0m\u001b[0;34m=\u001b[0m\u001b[0mengine\u001b[0m\u001b[0;34m,\u001b[0m\u001b[0;34m\u001b[0m\u001b[0;34m\u001b[0m\u001b[0m\n\u001b[0m\u001b[1;32m   2033\u001b[0m         )\n\u001b[1;32m   2034\u001b[0m \u001b[0;34m\u001b[0m\u001b[0m\n",
      "\u001b[0;32m~/anaconda3/lib/python3.6/site-packages/pandas/io/formats/excel.py\u001b[0m in \u001b[0;36mwrite\u001b[0;34m(self, writer, sheet_name, startrow, startcol, freeze_panes, engine)\u001b[0m\n\u001b[1;32m    728\u001b[0m             \u001b[0mneed_save\u001b[0m \u001b[0;34m=\u001b[0m \u001b[0;32mFalse\u001b[0m\u001b[0;34m\u001b[0m\u001b[0;34m\u001b[0m\u001b[0m\n\u001b[1;32m    729\u001b[0m         \u001b[0;32melse\u001b[0m\u001b[0;34m:\u001b[0m\u001b[0;34m\u001b[0m\u001b[0;34m\u001b[0m\u001b[0m\n\u001b[0;32m--> 730\u001b[0;31m             \u001b[0mwriter\u001b[0m \u001b[0;34m=\u001b[0m \u001b[0mExcelWriter\u001b[0m\u001b[0;34m(\u001b[0m\u001b[0mstringify_path\u001b[0m\u001b[0;34m(\u001b[0m\u001b[0mwriter\u001b[0m\u001b[0;34m)\u001b[0m\u001b[0;34m,\u001b[0m \u001b[0mengine\u001b[0m\u001b[0;34m=\u001b[0m\u001b[0mengine\u001b[0m\u001b[0;34m)\u001b[0m\u001b[0;34m\u001b[0m\u001b[0;34m\u001b[0m\u001b[0m\n\u001b[0m\u001b[1;32m    731\u001b[0m             \u001b[0mneed_save\u001b[0m \u001b[0;34m=\u001b[0m \u001b[0;32mTrue\u001b[0m\u001b[0;34m\u001b[0m\u001b[0;34m\u001b[0m\u001b[0m\n\u001b[1;32m    732\u001b[0m \u001b[0;34m\u001b[0m\u001b[0m\n",
      "\u001b[0;32m~/anaconda3/lib/python3.6/site-packages/pandas/io/excel/_openpyxl.py\u001b[0m in \u001b[0;36m__init__\u001b[0;34m(self, path, engine, mode, **engine_kwargs)\u001b[0m\n\u001b[1;32m     16\u001b[0m     \u001b[0;32mdef\u001b[0m \u001b[0m__init__\u001b[0m\u001b[0;34m(\u001b[0m\u001b[0mself\u001b[0m\u001b[0;34m,\u001b[0m \u001b[0mpath\u001b[0m\u001b[0;34m,\u001b[0m \u001b[0mengine\u001b[0m\u001b[0;34m=\u001b[0m\u001b[0;32mNone\u001b[0m\u001b[0;34m,\u001b[0m \u001b[0mmode\u001b[0m\u001b[0;34m=\u001b[0m\u001b[0;34m\"w\"\u001b[0m\u001b[0;34m,\u001b[0m \u001b[0;34m**\u001b[0m\u001b[0mengine_kwargs\u001b[0m\u001b[0;34m)\u001b[0m\u001b[0;34m:\u001b[0m\u001b[0;34m\u001b[0m\u001b[0;34m\u001b[0m\u001b[0m\n\u001b[1;32m     17\u001b[0m         \u001b[0;31m# Use the openpyxl module as the Excel writer.\u001b[0m\u001b[0;34m\u001b[0m\u001b[0;34m\u001b[0m\u001b[0;34m\u001b[0m\u001b[0m\n\u001b[0;32m---> 18\u001b[0;31m         \u001b[0;32mfrom\u001b[0m \u001b[0mopenpyxl\u001b[0m\u001b[0;34m.\u001b[0m\u001b[0mworkbook\u001b[0m \u001b[0;32mimport\u001b[0m \u001b[0mWorkbook\u001b[0m\u001b[0;34m\u001b[0m\u001b[0;34m\u001b[0m\u001b[0m\n\u001b[0m\u001b[1;32m     19\u001b[0m \u001b[0;34m\u001b[0m\u001b[0m\n\u001b[1;32m     20\u001b[0m         \u001b[0msuper\u001b[0m\u001b[0;34m(\u001b[0m\u001b[0;34m)\u001b[0m\u001b[0;34m.\u001b[0m\u001b[0m__init__\u001b[0m\u001b[0;34m(\u001b[0m\u001b[0mpath\u001b[0m\u001b[0;34m,\u001b[0m \u001b[0mmode\u001b[0m\u001b[0;34m=\u001b[0m\u001b[0mmode\u001b[0m\u001b[0;34m,\u001b[0m \u001b[0;34m**\u001b[0m\u001b[0mengine_kwargs\u001b[0m\u001b[0;34m)\u001b[0m\u001b[0;34m\u001b[0m\u001b[0;34m\u001b[0m\u001b[0m\n",
      "\u001b[0;31mModuleNotFoundError\u001b[0m: No module named 'openpyxl'"
     ]
    }
   ],
   "source": [
    "\n",
    "\n",
    "# print(len(result[1]))\n",
    "def calc_pixels(image):\n",
    "    total_count = 0\n",
    "    for i in range(50): \n",
    "        for j in range(50):\n",
    "            if image[i][j] > 0 :\n",
    "                total_count += 1\n",
    "\n",
    "    return total_count   \n",
    "\n",
    "current_time = datetime.datetime.now().strftime(\"%Y%m%d-%H%M%S\")\n",
    "file_name = str(\"\".format(current_time))\n",
    "\n",
    "PATH = '/mnt/8TBDisk/BRC/BRC2019_Q_patch'\n",
    "PATH_RECORD = './00_model_paper/lymph_volumns_' +  file_name + '.xlsx'\n",
    "record_count = 0\n",
    "record = pd.DataFrame(columns=[\"환자key\", \"lVolume\"])\n",
    "\n",
    "img_list = os.listdir(PATH)\n",
    "\n",
    "for i in range(1):\n",
    "    img = cv2.imread(os.path.join(PATH, img_list[i]), cv2.IMREAD_GRAYSCALE)\n",
    "    \n",
    "    pd.set_option('display.max_rows', img.shape[0]+1)\n",
    "    origin = img.copy()\n",
    "    img2 = img.copy()\n",
    "   \n",
    "    ret,thresh = cv2.threshold(img,0,256,cv2.THRESH_BINARY+cv2.THRESH_OTSU)\n",
    "    # 가장 바깥쪽 컨투어에 대해 모든 좌표 반환\n",
    "    _, contour, hierarchy = cv2.findContours(thresh, cv2.RETR_EXTERNAL, cv2.CHAIN_APPROX_NONE)\n",
    "    # 가장 바깥쪽 컨투어에 대해 꼭지점 좌표만 반환\n",
    "    _, contour2, hierarchy = cv2.findContours(thresh, cv2.RETR_EXTERNAL, cv2.CHAIN_APPROX_SIMPLE)\n",
    "    stencil = np.zeros(img.shape).astype(img.dtype)\n",
    "\n",
    "    color = [255, 255, 255]\n",
    "    max_cnt = max(contour2, key=cv2.contourArea)\n",
    "    cv2.drawContours(img, [max_cnt], 0, (255,0,0), thickness=cv2.FILLED)\n",
    "\n",
    "    cv2.fillPoly(stencil, [max_cnt], color) \n",
    "    result = cv2.bitwise_and(img, stencil)\n",
    "    \n",
    "    \n",
    "    print(calc_pixels(result))\n",
    "    plt.subplot(1,3,1)\n",
    "    plt.imshow(origin, cmap='gray')\n",
    "    \n",
    "    plt.subplot(1,3,2)\n",
    "    plt.imshow(img, cmap='gray')\n",
    "    \n",
    "    plt.subplot(1,3,3)\n",
    "    plt.imshow(result, cmap='gray')\n",
    "    \n",
    "    new_record = {'환자key': img_list[0].split('_')[0], 'lVolume': str(calc_pixels(result))}\n",
    "    record.loc[record_count] = new_record\n",
    "    record_count += 1\n",
    " \n",
    "    plt.suptitle(img_list[i])\n",
    "    plt.tight_layout()\n",
    "    plt.show()\n",
    "    \n",
    "    \n",
    "record.to_excel(PATH_RECORD, sheet_name='sheet1', index=False)\n",
    "\n",
    "#     for j in range (2):\n",
    "#         plt. subplot(0,i)\n",
    "#         plt.imshow(origin, cmap='gray')\n",
    "#         plt.subplot()\n",
    "#         plt.show()\n",
    "#     plt.imshow(result, cmap='gray')\n",
    "#     plt.show()"
   ]
  },
  {
   "cell_type": "code",
   "execution_count": 90,
   "metadata": {
    "execution": {
     "iopub.execute_input": "2021-07-20T07:09:50.265792Z",
     "iopub.status.busy": "2021-07-20T07:09:50.265201Z",
     "iopub.status.idle": "2021-07-20T07:09:50.274020Z",
     "shell.execute_reply": "2021-07-20T07:09:50.272910Z",
     "shell.execute_reply.started": "2021-07-20T07:09:50.265740Z"
    },
    "tags": []
   },
   "outputs": [
    {
     "data": {
      "text/plain": [
       "str"
      ]
     },
     "execution_count": 90,
     "metadata": {},
     "output_type": "execute_result"
    }
   ],
   "source": [
    "type(img_list[0].split('_')[0])"
   ]
  },
  {
   "cell_type": "code",
   "execution_count": 91,
   "metadata": {
    "execution": {
     "iopub.execute_input": "2021-07-20T07:10:06.252636Z",
     "iopub.status.busy": "2021-07-20T07:10:06.252045Z",
     "iopub.status.idle": "2021-07-20T07:10:06.269920Z",
     "shell.execute_reply": "2021-07-20T07:10:06.268960Z",
     "shell.execute_reply.started": "2021-07-20T07:10:06.252584Z"
    }
   },
   "outputs": [
    {
     "data": {
      "text/plain": [
       "int"
      ]
     },
     "execution_count": 91,
     "metadata": {},
     "output_type": "execute_result"
    }
   ],
   "source": [
    "type(calc_pixels(result))"
   ]
  },
  {
   "cell_type": "code",
   "execution_count": null,
   "metadata": {},
   "outputs": [],
   "source": [
    "current_time = datetime.datetime.now().strftime(\"%Y%m%d-%H%M%S\")\n",
    "file_name = str(\"\".format(current_time))\n",
    "\n",
    "\n",
    "PATH_RECORD = './00_model_paper/lymph_volumns_' +  file_name + '.xlsx'\n",
    "record_count = 0\n",
    "record = pd.DataFrame(columns=[\"환자key\", \"lVolume\"])\n",
    "\n",
    "for i in range(10):\n",
    "\tnew_record = {'환자key': img_list[0].split('_')[0], 'lVolume': str(calc_pixels(result))}\n",
    "    record.loc[record_count] = new_record\n",
    "\trecord_count += 1\n",
    "\n",
    "\n",
    "record.to_excel(PATH_RECORD, sheet_name='sheet1', index=False)"
   ]
  }
 ],
 "metadata": {
  "kernelspec": {
   "display_name": "env4_tf1",
   "language": "python",
   "name": "env4_tf1"
  },
  "language_info": {
   "codemirror_mode": {
    "name": "ipython",
    "version": 3
   },
   "file_extension": ".py",
   "mimetype": "text/x-python",
   "name": "python",
   "nbconvert_exporter": "python",
   "pygments_lexer": "ipython3",
   "version": "3.6.8"
  }
 },
 "nbformat": 4,
 "nbformat_minor": 4
}
