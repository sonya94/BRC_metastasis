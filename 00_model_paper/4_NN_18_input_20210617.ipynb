{
 "cells": [
  {
   "cell_type": "code",
   "execution_count": 1,
   "metadata": {
    "execution": {
     "iopub.execute_input": "2021-06-17T04:34:37.729727Z",
     "iopub.status.busy": "2021-06-17T04:34:37.728860Z",
     "iopub.status.idle": "2021-06-17T04:34:39.194417Z",
     "shell.execute_reply": "2021-06-17T04:34:39.193013Z",
     "shell.execute_reply.started": "2021-06-17T04:34:37.729645Z"
    },
    "tags": []
   },
   "outputs": [
    {
     "name": "stdout",
     "output_type": "stream",
     "text": [
      "lib path is successfully appended.\n"
     ]
    },
    {
     "name": "stderr",
     "output_type": "stream",
     "text": [
      "Using TensorFlow backend.\n"
     ]
    }
   ],
   "source": [
    "import warnings\n",
    "\n",
    "warnings.filterwarnings(action='ignore')\n",
    "import os, sys\n",
    "import pandas as pd\n",
    "import numpy as np\n",
    "\n",
    "def importOwnLib():\n",
    "    if '/home/miruware/aProjects/lib' not in sys.path:\n",
    "        sys.path.append('/home/miruware/aProjects/lib')\n",
    "        print(\"lib path is successfully appended.\")\n",
    "    else:\n",
    "        print(\"lib path is already exists.\")\n",
    "\n",
    "importOwnLib()\n",
    "import sonyalib as sonya\n",
    "\n",
    "import importlib\n",
    "importlib.reload(sonya)\n",
    "from math import sqrt\n",
    "import datetime\n",
    "import timeit\n",
    "import tensorflow as tf\n",
    "\n",
    "from scipy import interp\n",
    "\n",
    "import keras\n",
    "from keras.optimizers import Adam\n",
    "from keras import callbacks, losses\n",
    "\n",
    "from keras.models import Sequential\n",
    "from keras.layers import Dense, Activation, Flatten, BatchNormalization, Dropout\n",
    "from keras import initializers\n",
    "from keras.backend.tensorflow_backend import set_session\n",
    "import matplotlib.pyplot as plt\n",
    "from sklearn.metrics import confusion_matrix\n",
    "## RFE\n",
    "from sklearn.feature_selection import RFE, RFECV\n",
    "from sklearn.model_selection import GridSearchCV, StratifiedKFold,train_test_split, KFold\n",
    "\n",
    "from sklearn.tree import DecisionTreeClassifier\n",
    "from sklearn.metrics import auc, roc_curve\n"
   ]
  },
  {
   "cell_type": "code",
   "execution_count": 2,
   "metadata": {
    "execution": {
     "iopub.execute_input": "2021-06-17T04:34:40.397296Z",
     "iopub.status.busy": "2021-06-17T04:34:40.396580Z",
     "iopub.status.idle": "2021-06-17T04:34:40.594632Z",
     "shell.execute_reply": "2021-06-17T04:34:40.593895Z",
     "shell.execute_reply.started": "2021-06-17T04:34:40.397220Z"
    },
    "tags": []
   },
   "outputs": [],
   "source": [
    "os.environ[\"CUDA_VISIBLE_DEVICES\"] = '1'\n",
    "config = tf.ConfigProto()\n",
    "config.gpu_options.allow_growth = True # GPU메모리가 전부 할당되지 않고, 아주 적은 비율만 할당되어 시작해서 프로세스의 메모리 수요에 따라 증가하게 된다.\n",
    "config.gpu_options.visible_device_list = \"0\"\n",
    "set_session(tf.Session(config=config))\n",
    "\n",
    "def mlp_model(num_input, dropout=0, lr=0.005, l1=9, l2=9):\n",
    "    keras.backend.clear_session()\n",
    "    seed_number = 7\n",
    "    ## 모델 구성하기\n",
    "    model = Sequential()\n",
    "    # print learning rate\n",
    "\n",
    "    model.add(Dense(l1, activation='relu', input_dim=num_input, kernel_initializer=initializers.he_normal(seed=seed_number)))\n",
    "    model.add(BatchNormalization())\n",
    "    model.add(Dense(l2, activation='relu', kernel_initializer=initializers.he_normal(seed=seed_number)))\n",
    "    model.add(BatchNormalization())\n",
    "    model.add(Dropout(dropout))\n",
    "    model.add(Dense(1, activation='sigmoid', kernel_initializer=initializers.he_normal(seed=seed_number)))\n",
    "\n",
    "    ## 모델 컴파일\n",
    "    model.compile(optimizer=Adam(lr), loss=losses.binary_crossentropy, metrics=['accuracy'])\n",
    "\n",
    "    # model.summary()\n",
    "    return model\n",
    "\n",
    "\n",
    "def confusion_metrics(conf_matrix):\n",
    "    # save confusion matrix and slice into four pieces\n",
    "    TP = conf_matrix[1][1]\n",
    "    TN = conf_matrix[0][0]\n",
    "    FP = conf_matrix[0][1]\n",
    "    FN = conf_matrix[1][0]\n",
    "    print('True Positives:', TP)\n",
    "    print('True Negatives:', TN)\n",
    "    print('False Positives:', FP)\n",
    "    print('False Negatives:', FN)\n",
    "\n",
    "    # calculate accuracy\n",
    "    conf_accuracy = (float(TP + TN) / float(TP + TN + FP + FN))\n",
    "\n",
    "    # calculate mis-classification\n",
    "    conf_misclassification = 1 - conf_accuracy\n",
    "\n",
    "    # calculate the sensitivity\n",
    "    conf_sensitivity = (TP / float(TP + FN))\n",
    "    # calculate the specificity\n",
    "    conf_specificity = (TN / float(TN + FP))\n",
    "\n",
    "    # calculate precision\n",
    "    conf_precision = (TN / float(TN + FP))\n",
    "    # calculate f_1 score\n",
    "    conf_f1 = 2 * ((conf_precision * conf_sensitivity) / (conf_precision + conf_sensitivity))\n",
    "    print('-' * 50)\n",
    "    print(f'Accuracy: {round(conf_accuracy, 2)}')\n",
    "    print(f'Mis-Classification: {round(conf_misclassification, 2)}')\n",
    "    print(f'Sensitivity: {round(conf_sensitivity, 2)}')\n",
    "    print(f'Specificity: {round(conf_specificity, 2)}')\n",
    "    print(f'Precision: {round(conf_precision, 2)}')\n",
    "    print(f'f_1 Score: {round(conf_f1, 2)}')\n",
    "\n",
    "    return conf_sensitivity,  conf_specificity\n"
   ]
  },
  {
   "cell_type": "code",
   "execution_count": 4,
   "metadata": {
    "execution": {
     "iopub.execute_input": "2021-06-17T04:34:49.346473Z",
     "iopub.status.busy": "2021-06-17T04:34:49.345874Z",
     "iopub.status.idle": "2021-06-17T04:34:49.451051Z",
     "shell.execute_reply": "2021-06-17T04:34:49.450054Z",
     "shell.execute_reply.started": "2021-06-17T04:34:49.346422Z"
    },
    "tags": []
   },
   "outputs": [
    {
     "name": "stdout",
     "output_type": "stream",
     "text": [
      "This is local file\n"
     ]
    }
   ],
   "source": [
    "print(\"This is local file\")\n",
    "\n",
    "start_time = timeit.default_timer()  # 시작 시간 체크\n",
    "\n",
    "# ==== Step 1. Load original dataset\n",
    "file_path0 = './BRC_input_201116_train.xlsx'\n",
    "file_path1 = './BRC_input_201116_test.xlsx'\n",
    "meta_train = sonya.get_normalized_metadata(file_path0)\n",
    "meta_test = sonya.get_normalized_metadata(file_path1)\n",
    "target_dir = './model_04_NN_18_input/'\n",
    "sonya.createFolder(target_dir)\n",
    "\n",
    "properties = [  # total 18\n",
    "    'sex',\n",
    "    'age',\n",
    "    'LR',\n",
    "    'cT',\n",
    "    'cN',\n",
    "    'cAverage',\n",
    "    'cSD',\n",
    "    'aAverage',\n",
    "    'aSD',\n",
    "    'lMax',\n",
    "    'homogeneous',\n",
    "    'hetero',\n",
    "    'rim',\n",
    "    'clustered',\n",
    "    'non-mass',\n",
    "    'AorCa',\n",
    "    'LymAo',\n",
    "    'LymCa'\n",
    "]\n",
    "\n",
    "num_properties = len(properties)\n",
    "\n",
    "X_train = meta_train[properties]\n",
    "y_train = meta_train['label']\n",
    "\n",
    "X_test = meta_test[properties]\n",
    "y_test = meta_test['label']\n",
    "\n",
    "num_features = len(properties)\n",
    "\n",
    "batch_size = 25\n",
    "learning_rate = 0.005\n",
    "layer1 = 11\n",
    "layer2 = 11\n",
    "roc_result = 0"
   ]
  },
  {
   "cell_type": "code",
   "execution_count": 6,
   "metadata": {
    "execution": {
     "iopub.execute_input": "2021-06-17T09:02:32.297880Z",
     "iopub.status.busy": "2021-06-17T09:02:32.297292Z",
     "iopub.status.idle": "2021-06-17T09:14:49.977360Z",
     "shell.execute_reply": "2021-06-17T09:14:49.976313Z",
     "shell.execute_reply.started": "2021-06-17T09:02:32.297830Z"
    },
    "scrolled": true,
    "tags": []
   },
   "outputs": [
    {
     "name": "stdout",
     "output_type": "stream",
     "text": [
      "======================batch: 25, lr = 0.005, FOLD: 1====================\n",
      "20/20 [==============================] - 0s 127us/step\n",
      "20/20 [==============================] - 0s 148us/step\n",
      "\n",
      "K-fold cross validation Accuracy: 0.6000000238418579\n",
      "======================batch: 25, lr = 0.005, FOLD: 2====================\n",
      "20/20 [==============================] - 0s 119us/step\n",
      "20/20 [==============================] - 0s 121us/step\n",
      "\n",
      "K-fold cross validation Accuracy: 0.5\n",
      "======================batch: 25, lr = 0.005, FOLD: 3====================\n",
      "20/20 [==============================] - 0s 109us/step\n",
      "20/20 [==============================] - 0s 124us/step\n",
      "\n",
      "K-fold cross validation Accuracy: 0.699999988079071\n",
      "======================batch: 25, lr = 0.005, FOLD: 4====================\n",
      "20/20 [==============================] - 0s 96us/step\n",
      "20/20 [==============================] - 0s 107us/step\n",
      "\n",
      "K-fold cross validation Accuracy: 0.550000011920929\n",
      "======================batch: 25, lr = 0.005, FOLD: 5====================\n",
      "20/20 [==============================] - 0s 118us/step\n",
      "20/20 [==============================] - 0s 102us/step\n",
      "\n",
      "K-fold cross validation Accuracy: 0.75\n",
      "======================batch: 25, lr = 0.005, FOLD: 6====================\n",
      "20/20 [==============================] - 0s 82us/step\n",
      "20/20 [==============================] - 0s 103us/step\n",
      "\n",
      "K-fold cross validation Accuracy: 0.800000011920929\n",
      "======================batch: 25, lr = 0.005, FOLD: 7====================\n",
      "19/19 [==============================] - 0s 114us/step\n",
      "19/19 [==============================] - 0s 112us/step\n",
      "\n",
      "K-fold cross validation Accuracy: 0.6842105388641357\n",
      "======================batch: 25, lr = 0.005, FOLD: 8====================\n",
      "19/19 [==============================] - 0s 118us/step\n",
      "19/19 [==============================] - 0s 129us/step\n",
      "\n",
      "K-fold cross validation Accuracy: 0.6315789222717285\n",
      "======================batch: 25, lr = 0.005, FOLD: 9====================\n",
      "19/19 [==============================] - 0s 114us/step\n",
      "19/19 [==============================] - 0s 106us/step\n",
      "\n",
      "K-fold cross validation Accuracy: 0.8421052694320679\n",
      "======================batch: 25, lr = 0.005, FOLD: 10====================\n",
      "19/19 [==============================] - 0s 102us/step\n",
      "19/19 [==============================] - 0s 111us/step\n",
      "\n",
      "K-fold cross validation Accuracy: 0.7368420958518982\n",
      "Radiologist + AI\n",
      "[[47 12]\n",
      " [42 95]]\n",
      "True Positives: 95\n",
      "True Negatives: 47\n",
      "False Positives: 12\n",
      "False Negatives: 42\n",
      "--------------------------------------------------\n",
      "Accuracy: 0.72\n",
      "Mis-Classification: 0.28\n",
      "Sensitivity: 0.69\n",
      "Specificity: 0.8\n",
      "Precision: 0.8\n",
      "f_1 Score: 0.74\n",
      "0.6943972693972694\n",
      "Total running time: 4:33:50.\n",
      "\n",
      "0.6110923011826552 0.7742556841653303\n",
      "======================batch: 25, lr = 0.005, FOLD: 1====================\n",
      "20/20 [==============================] - 0s 97us/step\n",
      "20/20 [==============================] - 0s 99us/step\n",
      "\n",
      "K-fold cross validation Accuracy: 0.5\n",
      "======================batch: 25, lr = 0.005, FOLD: 2====================\n",
      "20/20 [==============================] - 0s 102us/step\n",
      "20/20 [==============================] - 0s 115us/step\n",
      "\n",
      "K-fold cross validation Accuracy: 0.550000011920929\n",
      "======================batch: 25, lr = 0.005, FOLD: 3====================\n",
      "20/20 [==============================] - 0s 106us/step\n",
      "20/20 [==============================] - 0s 108us/step\n",
      "\n",
      "K-fold cross validation Accuracy: 0.6499999761581421\n",
      "======================batch: 25, lr = 0.005, FOLD: 4====================\n",
      "20/20 [==============================] - 0s 114us/step\n",
      "20/20 [==============================] - 0s 126us/step\n",
      "\n",
      "K-fold cross validation Accuracy: 0.699999988079071\n",
      "======================batch: 25, lr = 0.005, FOLD: 5====================\n",
      "20/20 [==============================] - 0s 105us/step\n",
      "20/20 [==============================] - 0s 110us/step\n",
      "\n",
      "K-fold cross validation Accuracy: 0.6000000238418579\n",
      "======================batch: 25, lr = 0.005, FOLD: 6====================\n",
      "20/20 [==============================] - 0s 120us/step\n",
      "20/20 [==============================] - 0s 121us/step\n",
      "\n",
      "K-fold cross validation Accuracy: 0.75\n",
      "======================batch: 25, lr = 0.005, FOLD: 7====================\n",
      "19/19 [==============================] - 0s 110us/step\n",
      "19/19 [==============================] - 0s 122us/step\n",
      "\n",
      "K-fold cross validation Accuracy: 0.7368420958518982\n",
      "======================batch: 25, lr = 0.005, FOLD: 8====================\n",
      "19/19 [==============================] - 0s 101us/step\n",
      "19/19 [==============================] - 0s 112us/step\n",
      "\n",
      "K-fold cross validation Accuracy: 0.7894737124443054\n",
      "======================batch: 25, lr = 0.005, FOLD: 9====================\n",
      "19/19 [==============================] - 0s 103us/step\n",
      "19/19 [==============================] - 0s 113us/step\n",
      "\n",
      "K-fold cross validation Accuracy: 0.8421052694320679\n",
      "======================batch: 25, lr = 0.005, FOLD: 10====================\n",
      "19/19 [==============================] - 0s 110us/step\n",
      "19/19 [==============================] - 0s 130us/step\n",
      "\n",
      "K-fold cross validation Accuracy: 0.8421052694320679\n",
      "Radiologist + AI\n",
      "[[46 13]\n",
      " [43 94]]\n",
      "True Positives: 94\n",
      "True Negatives: 46\n",
      "False Positives: 13\n",
      "False Negatives: 43\n",
      "--------------------------------------------------\n",
      "Accuracy: 0.71\n",
      "Mis-Classification: 0.29\n",
      "Sensitivity: 0.69\n",
      "Specificity: 0.78\n",
      "Precision: 0.78\n",
      "f_1 Score: 0.73\n",
      "0.7364607614607616\n",
      "Total running time: 4:40:0.\n",
      "\n",
      "0.6194318379935554 0.8501286015668842\n"
     ]
    }
   ],
   "source": [
    "while roc_result < 0.72:\n",
    "    my_model = mlp_model(num_features, lr=learning_rate, l1=layer1, l2=layer2)\n",
    "    # roc_result = cross_validation(my_model, X_train, y_train, nbatch=batch_size, nlr=learning_rate, l1=layer1, l2=layer2)\n",
    "    # def cross_validation(model, X, y, nfold=10, nbatch=5, nlr=0.001, l1=16, l2=16):\n",
    "    kfold = StratifiedKFold(n_splits=10, shuffle=True)\n",
    "    accuracy = []\n",
    "    tprs = []\n",
    "    aucs = []\n",
    "    mean_fpr = np.linspace(0, 1, 100)\n",
    "\n",
    "    # K-fold cross validation\n",
    "    # 학습 데이터를 이용해서 학습\n",
    "\n",
    "    i = 1\n",
    "    for train_index, validation_index in kfold.split(X_train, y_train):\n",
    "        kX_train, kX_test = X_train.iloc[train_index], X_train.iloc[validation_index]\n",
    "        ky_train, ky_test = y_train.iloc[train_index], y_train.iloc[validation_index]\n",
    "\n",
    "        print(\"======================batch: {}, lr = {}, FOLD: {}====================\".format(batch_size, learning_rate, i))\n",
    "        cbks = [callbacks.LearningRateScheduler(lambda epoch: 0.001 * 0.5 ** (epoch // 2)),\n",
    "                callbacks.TensorBoard(write_graph=False)]\n",
    "        # hist = model.fit(kX_train, ky_train, epochs=500, batch_size=5, validation_data=(kX_test,ky_test),callbacks=[tb_hist])\n",
    "        my_model.fit(kX_train, ky_train, epochs=500, batch_size=batch_size, validation_data=(kX_test, ky_test),\n",
    "                     callbacks=cbks,\n",
    "                     verbose=0)\n",
    "        y_val_cat_prob = my_model.predict_proba(kX_test)\n",
    "\n",
    "        k_accuracy = '%.4f' % (my_model.evaluate(kX_test, ky_test)[1])\n",
    "        accuracy.append(k_accuracy)\n",
    "\n",
    "        # roc curve\n",
    "        fpr, tpr, t = roc_curve(y_train.iloc[validation_index], y_val_cat_prob)\n",
    "        tprs.append(interp(mean_fpr, fpr, tpr))\n",
    "        roc_auc = auc(fpr, tpr)\n",
    "        aucs.append(roc_auc)\n",
    "   \n",
    "        i = i + 1\n",
    "\n",
    "        # 전체 검증 결과 출력\n",
    "\n",
    "        # Assigning columns namese\n",
    "        #     cm_df = pd.DataFrame(cm, columns = )\n",
    "\n",
    "        test_loss, test_acc = my_model.evaluate(kX_test, ky_test)\n",
    "    #         test_acc_str = 'cross_validation_test acuracy: {}'.format(test_acc)\n",
    "        # print('Test acuracy: {}'.format(test_acc))\n",
    "    #         print(test_acc_str)\n",
    "        print('\\nK-fold cross validation Accuracy: {}'.format(test_acc))\n",
    "\n",
    "    \n",
    "    y_pred_proba = (my_model.predict(X_train) >= 0.693).astype(int)\n",
    "    cm = confusion_matrix(y_train, y_pred_proba)\n",
    "    print(\"Radiologist + AI\")\n",
    "    print(cm)\n",
    "    confusion_metrics(cm)\n",
    "\n",
    "    mean_tpr = np.mean(tprs, axis=0)\n",
    "    mean_auc = auc(mean_fpr, mean_tpr)\n",
    "    roc_result = mean_auc\n",
    "    print(roc_result)\n",
    "\n",
    "    current_time = datetime.datetime.now().strftime(\"%Y%m%d-%H%M%S\")\n",
    "    model_name = target_dir + 'AUC' +str(int(float(mean_auc) * 100)) + \"_\" + current_time\n",
    "    model_json = my_model.to_json()\n",
    "\n",
    "    with open('{}.json'.format(model_name), 'w') as json_file:\n",
    "        json_file.write(model_json)  # save model per fold\n",
    "\n",
    "    my_model.save_weights('{}.h5'.format(model_name))  # save weight per fold\n",
    "\n",
    "#     plt.plot(mean_fpr, mean_tpr, color='red', label=r'radiologist + AI(AUC = %0.2f)' % (mean_auc), lw=2, alpha=1)\n",
    "\n",
    "\n",
    "    terminate_time = timeit.default_timer()  # 종료 시간 체크\n",
    "\n",
    "    total_time = terminate_time - start_time\n",
    "\n",
    "    # output running time in a nice format.\n",
    "    mins, secs = divmod(total_time, 60)\n",
    "    hours, mins = divmod(mins, 60)\n",
    "\n",
    "    print(\"Total running time: %d:%d:%d.\\n\" % (hours, mins, secs))\n",
    "\n",
    "    x_bar = np.mean(aucs)\n",
    "    s = np.std(aucs)\n",
    "    n = len(aucs)\n",
    "\n",
    "    z = 1.96\n",
    "    lower = x_bar - (z * (s / sqrt(n)))\n",
    "    upper = x_bar + (z * (s / sqrt(n)))\n",
    "    # interval = z * sqrt( (test_acc * (1 - test_acc)) / len(meta_test))\n",
    "    print(lower, upper)\n",
    "    "
   ]
  },
  {
   "cell_type": "code",
   "execution_count": 7,
   "metadata": {
    "execution": {
     "iopub.execute_input": "2021-06-18T06:58:51.987775Z",
     "iopub.status.busy": "2021-06-18T06:58:51.987190Z",
     "iopub.status.idle": "2021-06-18T06:58:51.998061Z",
     "shell.execute_reply": "2021-06-18T06:58:51.996557Z",
     "shell.execute_reply.started": "2021-06-18T06:58:51.987726Z"
    },
    "tags": []
   },
   "outputs": [],
   "source": [
    "x_bar = np.mean(aucs)\n",
    "s = np.std(aucs)\n",
    "n = len(aucs)\n",
    "\n",
    "z = 1.96\n",
    "lower = x_bar - (z * (s / sqrt(n)))\n",
    "upper = x_bar + (z * (s / sqrt(n)))\n",
    "# interval = z * sqrt( (test_acc * (1 - test_acc)) / len(meta_test))"
   ]
  },
  {
   "cell_type": "code",
   "execution_count": 8,
   "metadata": {
    "execution": {
     "iopub.execute_input": "2021-06-18T06:58:53.161574Z",
     "iopub.status.busy": "2021-06-18T06:58:53.160839Z",
     "iopub.status.idle": "2021-06-18T06:58:53.168543Z",
     "shell.execute_reply": "2021-06-18T06:58:53.167137Z",
     "shell.execute_reply.started": "2021-06-18T06:58:53.161505Z"
    },
    "tags": []
   },
   "outputs": [
    {
     "name": "stdout",
     "output_type": "stream",
     "text": [
      "0.6194318379935554 0.8501286015668842\n"
     ]
    }
   ],
   "source": [
    "print(lower, upper)"
   ]
  },
  {
   "cell_type": "code",
   "execution_count": 9,
   "metadata": {
    "execution": {
     "iopub.execute_input": "2021-06-18T06:58:54.586570Z",
     "iopub.status.busy": "2021-06-18T06:58:54.585992Z",
     "iopub.status.idle": "2021-06-18T06:58:54.597527Z",
     "shell.execute_reply": "2021-06-18T06:58:54.596283Z",
     "shell.execute_reply.started": "2021-06-18T06:58:54.586522Z"
    },
    "tags": []
   },
   "outputs": [
    {
     "data": {
      "text/plain": [
       "[0.32142857142857145,\n",
       " 0.7500000000000001,\n",
       " 0.7023809523809524,\n",
       " 0.8809523809523809,\n",
       " 0.5595238095238095,\n",
       " 0.6785714285714286,\n",
       " 0.6857142857142857,\n",
       " 0.8461538461538461,\n",
       " 0.9358974358974359,\n",
       " 0.9871794871794872]"
      ]
     },
     "execution_count": 9,
     "metadata": {},
     "output_type": "execute_result"
    }
   ],
   "source": [
    "aucs"
   ]
  },
  {
   "cell_type": "code",
   "execution_count": 10,
   "metadata": {
    "execution": {
     "iopub.execute_input": "2021-06-18T06:59:01.601087Z",
     "iopub.status.busy": "2021-06-18T06:59:01.600368Z",
     "iopub.status.idle": "2021-06-18T06:59:01.610126Z",
     "shell.execute_reply": "2021-06-18T06:59:01.608709Z",
     "shell.execute_reply.started": "2021-06-18T06:59:01.601030Z"
    }
   },
   "outputs": [
    {
     "data": {
      "text/plain": [
       "0.7347802197802198"
      ]
     },
     "execution_count": 10,
     "metadata": {},
     "output_type": "execute_result"
    }
   ],
   "source": [
    "x_bar"
   ]
  },
  {
   "cell_type": "code",
   "execution_count": 11,
   "metadata": {
    "execution": {
     "iopub.execute_input": "2021-06-18T06:59:04.628132Z",
     "iopub.status.busy": "2021-06-18T06:59:04.627527Z",
     "iopub.status.idle": "2021-06-18T06:59:04.636222Z",
     "shell.execute_reply": "2021-06-18T06:59:04.634946Z",
     "shell.execute_reply.started": "2021-06-18T06:59:04.628083Z"
    }
   },
   "outputs": [
    {
     "data": {
      "text/plain": [
       "0.18610388309211334"
      ]
     },
     "execution_count": 11,
     "metadata": {},
     "output_type": "execute_result"
    }
   ],
   "source": [
    "s"
   ]
  },
  {
   "cell_type": "code",
   "execution_count": null,
   "metadata": {},
   "outputs": [],
   "source": []
  }
 ],
 "metadata": {
  "kernelspec": {
   "display_name": "env4_tf1",
   "language": "python",
   "name": "env4_tf1"
  },
  "language_info": {
   "codemirror_mode": {
    "name": "ipython",
    "version": 3
   },
   "file_extension": ".py",
   "mimetype": "text/x-python",
   "name": "python",
   "nbconvert_exporter": "python",
   "pygments_lexer": "ipython3",
   "version": "3.6.8"
  }
 },
 "nbformat": 4,
 "nbformat_minor": 4
}
