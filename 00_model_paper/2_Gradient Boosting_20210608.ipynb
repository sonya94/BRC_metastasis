{
 "cells": [
  {
   "cell_type": "markdown",
   "metadata": {},
   "source": [
    "# Gradient Boosting"
   ]
  },
  {
   "cell_type": "code",
   "execution_count": 26,
   "metadata": {
    "execution": {
     "iopub.execute_input": "2021-06-08T11:06:16.026806Z",
     "iopub.status.busy": "2021-06-08T11:06:16.026228Z",
     "iopub.status.idle": "2021-06-08T11:06:16.039171Z",
     "shell.execute_reply": "2021-06-08T11:06:16.037542Z",
     "shell.execute_reply.started": "2021-06-08T11:06:16.026758Z"
    }
   },
   "outputs": [
    {
     "name": "stdout",
     "output_type": "stream",
     "text": [
      "lib path is already exists.\n"
     ]
    }
   ],
   "source": [
    "import sys, os\n",
    "def importOwnLib():\n",
    "    if '/home/miruware/aProjects/lib' not in sys.path:\n",
    "        sys.path.append('/home/miruware/aProjects/lib')\n",
    "        print(\"lib path is successfully appended.\")\n",
    "    else:\n",
    "        print(\"lib path is already exists.\")\n",
    "\n",
    "importOwnLib()\n",
    "\n",
    "import sonyalib as sonya\n",
    "import importlib\n",
    "importlib.reload(sonya)\n",
    "import pandas as pd\n",
    "import matplotlib.pyplot as plt\n",
    "from pprint import pprint\n",
    "import numpy as np\n",
    "\n",
    "from sklearn.metrics import accuracy_score, roc_auc_score, roc_curve\n",
    "from sklearn.ensemble import GradientBoostingClassifier\n",
    "from sklearn.model_selection import cross_val_score, cross_validate, GridSearchCV\n"
   ]
  },
  {
   "cell_type": "code",
   "execution_count": 3,
   "metadata": {
    "execution": {
     "iopub.execute_input": "2021-06-08T07:17:55.581097Z",
     "iopub.status.busy": "2021-06-08T07:17:55.580562Z",
     "iopub.status.idle": "2021-06-08T07:17:55.689153Z",
     "shell.execute_reply": "2021-06-08T07:17:55.688497Z",
     "shell.execute_reply.started": "2021-06-08T07:17:55.581051Z"
    }
   },
   "outputs": [],
   "source": [
    "# fit random seed for reproductivity\n",
    "seed = 7\n",
    "np.random.seed(seed)\n",
    "\n",
    "# Load metadata\n",
    "file_path_train = './BRC_input_201116_train.xlsx' # train\n",
    "file_path_test = './BRC_input_201116_test.xlsx' # test\n",
    "meta_train = sonya.get_normalized_metadata(file_path_train)\n",
    "meta_test = sonya.get_normalized_metadata(file_path_test)\n",
    "properties = [\n",
    "    'sex',\n",
    "    'age',\n",
    "    'LR',\n",
    "    'cT',\n",
    "    'cN',\n",
    "    'cAverage',\n",
    "    'cSD',\n",
    "    'aAverage',\n",
    "    'aSD',\n",
    "    'lMax',\n",
    "    'homogeneous',\n",
    "    'hetero',\n",
    "    'rim',\n",
    "    'clustered',\n",
    "    'non-mass',\n",
    "    'AorCa',\n",
    "    'LymAo',\n",
    "    'LymCa'\n",
    "]\n",
    "\n",
    "num_properties = len(properties)\n",
    "\n",
    "X_train = meta_train[properties]\n",
    "y_train = meta_train['label']\n",
    "X_test = meta_test[properties]\n",
    "y_test = meta_test['label']"
   ]
  },
  {
   "cell_type": "code",
   "execution_count": 4,
   "metadata": {
    "execution": {
     "iopub.execute_input": "2021-06-08T07:18:03.377003Z",
     "iopub.status.busy": "2021-06-08T07:18:03.376460Z",
     "iopub.status.idle": "2021-06-08T07:18:03.384542Z",
     "shell.execute_reply": "2021-06-08T07:18:03.383446Z",
     "shell.execute_reply.started": "2021-06-08T07:18:03.376955Z"
    }
   },
   "outputs": [
    {
     "name": "stdout",
     "output_type": "stream",
     "text": [
      "Training Features Shape: (196, 18)\n",
      "Training Labels Shape: (196,)\n",
      "Testing Features Shape: (84, 18)\n",
      "Testing Labels Shape: (84,)\n"
     ]
    }
   ],
   "source": [
    "print('Training Features Shape:', X_train.shape)\n",
    "print('Training Labels Shape:', y_train.shape)\n",
    "print('Testing Features Shape:', X_test.shape)\n",
    "print('Testing Labels Shape:', y_test.shape)"
   ]
  },
  {
   "cell_type": "code",
   "execution_count": 25,
   "metadata": {
    "execution": {
     "iopub.execute_input": "2021-06-08T11:05:29.883301Z",
     "iopub.status.busy": "2021-06-08T11:05:29.882719Z",
     "iopub.status.idle": "2021-06-08T11:05:29.896679Z",
     "shell.execute_reply": "2021-06-08T11:05:29.894915Z",
     "shell.execute_reply.started": "2021-06-08T11:05:29.883253Z"
    }
   },
   "outputs": [
    {
     "name": "stdout",
     "output_type": "stream",
     "text": [
      "Parameters currently in use: \n",
      "\n",
      "{'criterion': 'friedman_mse',\n",
      " 'init': None,\n",
      " 'learning_rate': 0.1,\n",
      " 'loss': 'deviance',\n",
      " 'max_depth': 3,\n",
      " 'max_features': None,\n",
      " 'max_leaf_nodes': None,\n",
      " 'min_impurity_decrease': 0.0,\n",
      " 'min_impurity_split': None,\n",
      " 'min_samples_leaf': 1,\n",
      " 'min_samples_split': 2,\n",
      " 'min_weight_fraction_leaf': 0.0,\n",
      " 'n_estimators': 100,\n",
      " 'presort': 'auto',\n",
      " 'random_state': 42,\n",
      " 'subsample': 1.0,\n",
      " 'verbose': 0,\n",
      " 'warm_start': False}\n"
     ]
    }
   ],
   "source": [
    "xgb = GradientBoostingClassifier(random_state=42)\n",
    "\n",
    "print('Parameters currently in use: \\n')\n",
    "pprint(xgb.get_params())"
   ]
  },
  {
   "cell_type": "code",
   "execution_count": null,
   "metadata": {},
   "outputs": [],
   "source": [
    "grid_search = GradientBoostingClassifier()\n"
   ]
  },
  {
   "cell_type": "code",
   "execution_count": 24,
   "metadata": {
    "execution": {
     "iopub.execute_input": "2021-06-08T11:03:05.211422Z",
     "iopub.status.busy": "2021-06-08T11:03:05.210829Z",
     "iopub.status.idle": "2021-06-08T11:03:05.379974Z",
     "shell.execute_reply": "2021-06-08T11:03:05.379169Z",
     "shell.execute_reply.started": "2021-06-08T11:03:05.211374Z"
    }
   },
   "outputs": [
    {
     "name": "stdout",
     "output_type": "stream",
     "text": [
      "\n",
      "Model Report\n",
      "Accuracy : 0.8469\n",
      "AUC Score (Train): 0.957009\n"
     ]
    },
    {
     "data": {
      "image/png": "[encoded data removed]",
      "text/plain": [
       "<Figure size 432x288 with 1 Axes>"
      ]
     },
     "metadata": {
      "needs_background": "light"
     },
     "output_type": "display_data"
    }
   ],
   "source": [
    "performCV = False\n",
    "gb_clf = GradientBoostingClassifier(n_estimators=10)\n",
    "printFeatureImportance = True\n",
    "\n",
    "#Fit the algorithm on the data\n",
    "gb_clf.fit(X_train, y_train)\n",
    "#Predict training set:\n",
    "pred = gb_clf.predict(X_train)\n",
    "pred_prob = gb_clf.predict_proba(X_train)[:,1]\n",
    "\n",
    "\n",
    "# Perform cross-validation:\n",
    "if performCV:\n",
    "    cv_score = cross_val_score(gb_clf, X_train, y_train, cv=10, scoring=\"roc_auc\")\n",
    "\n",
    "\n",
    "#Print model report:\n",
    "print (\"\\nModel Report\")\n",
    "print (\"Accuracy : %.4g\" % accuracy_score(y_train, pred))\n",
    "print (\"AUC Score (Train): %f\" % roc_auc_score(y_train, pred_prob))\n",
    "\n",
    "\n",
    "if performCV:\n",
    "    print (\"CV Score : Mean - %.7g | Std - %.7g | Min - %.7g | Max - %.7g\" % (np.mean(cv_score),np.std(cv_score),np.min(cv_score),np.max(cv_score)))\n",
    "\n",
    "    \n",
    "#Print Feature Importance:\n",
    "if printFeatureImportance:\n",
    "    feat_imp = pd.Series(gb_clf.feature_importances_, properties).sort_values(ascending=False)\n",
    "    feat_imp.plot(kind='bar', title='Feature Importances')\n",
    "    plt.ylabel('Feature Importance Score')"
   ]
  },
  {
   "cell_type": "code",
   "execution_count": null,
   "metadata": {},
   "outputs": [],
   "source": []
  }
 ],
 "metadata": {
  "kernelspec": {
   "display_name": "env4_tf1",
   "language": "python",
   "name": "env4_tf1"
  },
  "language_info": {
   "codemirror_mode": {
    "name": "ipython",
    "version": 3
   },
   "file_extension": ".py",
   "mimetype": "text/x-python",
   "name": "python",
   "nbconvert_exporter": "python",
   "pygments_lexer": "ipython3",
   "version": "3.6.8"
  }
 },
 "nbformat": 4,
 "nbformat_minor": 4
}
