{
 "cells": [
  {
   "cell_type": "code",
   "execution_count": 2,
   "metadata": {
    "execution": {
     "iopub.execute_input": "2021-07-01T06:20:07.656497Z",
     "iopub.status.busy": "2021-07-01T06:20:07.655977Z",
     "iopub.status.idle": "2021-07-01T06:20:08.054972Z",
     "shell.execute_reply": "2021-07-01T06:20:08.052567Z",
     "shell.execute_reply.started": "2021-07-01T06:20:07.656412Z"
    },
    "tags": []
   },
   "outputs": [],
   "source": [
    "import numpy as np\n",
    "import pandas as pd\n",
    "from scipy import stats\n",
    "import matplotlib.pyplot as plt\n",
    "# import seaborn as sns\n",
    "\n",
    "%matplotlib inline"
   ]
  },
  {
   "cell_type": "code",
   "execution_count": 3,
   "metadata": {
    "execution": {
     "iopub.execute_input": "2021-06-28T07:29:26.961803Z",
     "iopub.status.busy": "2021-06-28T07:29:26.960761Z",
     "iopub.status.idle": "2021-06-28T07:29:26.974024Z",
     "shell.execute_reply": "2021-06-28T07:29:26.970817Z",
     "shell.execute_reply.started": "2021-06-28T07:29:26.961449Z"
    },
    "tags": []
   },
   "outputs": [],
   "source": [
    "aucs = [ 0.9404761904761906,\n",
    "1.0,\n",
    "0.9285714285714286,\n",
    "0.7976190476190476,\n",
    "0.8571428571428572,\n",
    "0.8690476190476191,\n",
    "0.7857142857142857,\n",
    "0.935897435897436,\n",
    "0.9230769230769231,\n",
    "0.8846153846153847 ] "
   ]
  },
  {
   "cell_type": "code",
   "execution_count": 3,
   "metadata": {
    "execution": {
     "iopub.execute_input": "2021-06-28T04:31:08.280403Z",
     "iopub.status.busy": "2021-06-28T04:31:08.279888Z",
     "iopub.status.idle": "2021-06-28T04:31:08.296002Z",
     "shell.execute_reply": "2021-06-28T04:31:08.293077Z",
     "shell.execute_reply.started": "2021-06-28T04:31:08.280319Z"
    }
   },
   "outputs": [
    {
     "data": {
      "text/plain": [
       "[0.9404761904761906,\n",
       " 1.0,\n",
       " 0.9285714285714286,\n",
       " 0.7976190476190476,\n",
       " 0.8571428571428572,\n",
       " 0.8690476190476191,\n",
       " 0.7857142857142857,\n",
       " 0.935897435897436,\n",
       " 0.9230769230769231,\n",
       " 0.8846153846153847]"
      ]
     },
     "execution_count": 3,
     "metadata": {},
     "output_type": "execute_result"
    }
   ],
   "source": [
    "aucs"
   ]
  },
  {
   "cell_type": "code",
   "execution_count": 4,
   "metadata": {
    "execution": {
     "iopub.execute_input": "2021-06-28T04:31:09.106491Z",
     "iopub.status.busy": "2021-06-28T04:31:09.105974Z",
     "iopub.status.idle": "2021-06-28T04:31:09.114939Z",
     "shell.execute_reply": "2021-06-28T04:31:09.111799Z",
     "shell.execute_reply.started": "2021-06-28T04:31:09.106407Z"
    }
   },
   "outputs": [],
   "source": [
    "auc1 = aucs"
   ]
  },
  {
   "cell_type": "code",
   "execution_count": 5,
   "metadata": {
    "execution": {
     "iopub.execute_input": "2021-06-28T04:31:09.879940Z",
     "iopub.status.busy": "2021-06-28T04:31:09.879435Z",
     "iopub.status.idle": "2021-06-28T04:31:10.092413Z",
     "shell.execute_reply": "2021-06-28T04:31:10.089965Z",
     "shell.execute_reply.started": "2021-06-28T04:31:09.879858Z"
    }
   },
   "outputs": [
    {
     "data": {
      "image/png": "[encoded data removed]",
      "text/plain": [
       "<Figure size 432x288 with 1 Axes>"
      ]
     },
     "metadata": {
      "needs_background": "light"
     },
     "output_type": "display_data"
    }
   ],
   "source": [
    "fig, ax = plt.subplots()\n",
    "ax.boxplot([aucs, auc1])\n",
    "plt.title('Box plot of aucs')\n",
    "plt.xticks([1,2],['aucs1', 'aucs2'])\n",
    "plt.show()\n"
   ]
  },
  {
   "cell_type": "code",
   "execution_count": 11,
   "metadata": {},
   "outputs": [
    {
     "name": "stdout",
     "output_type": "stream",
     "text": [
      "^C\n",
      "\n",
      "CondaError: KeyboardInterrupt\n",
      "\n"
     ]
    }
   ],
   "source": [
    "! conda install -c anaconda seaborn"
   ]
  },
  {
   "cell_type": "code",
   "execution_count": 8,
   "metadata": {
    "execution": {
     "iopub.execute_input": "2021-07-03T00:25:05.713054Z",
     "iopub.status.busy": "2021-07-03T00:25:05.712305Z",
     "iopub.status.idle": "2021-07-03T00:25:05.746292Z",
     "shell.execute_reply": "2021-07-03T00:25:05.744573Z",
     "shell.execute_reply.started": "2021-07-03T00:25:05.712931Z"
    },
    "tags": []
   },
   "outputs": [],
   "source": [
    "PR18_aucs = [0.27380952380952384, 0.7857142857142858, 0.6666666666666667, 0.6309523809523809, 0.7023809523809523, 0.6785714285714286, 0.8214285714285715, 0.653846153846154, 0.4358974358974359, 0.8]\n",
    "PR17_aucs = [0.488095238095238, 0.6071428571428572, 0.6785714285714286, 0.7738095238095238, 0.511904761904762, 0.8333333333333334, 0.8214285714285714, 0.9230769230769231, 0.9358974358974359, 0.8769230769230769]\n",
    "PR16_aucs = [0.19047619047619047, 0.6071428571428572, 0.4642857142857143, 0.4404761904761905, 0.8928571428571429, 0.6309523809523809, 0.7261904761904762, 0.8076923076923076, 0.9358974358974359, 0.7230769230769231]\n",
    "PR15_aucs = [0.2261904761904762, 0.75, 0.6666666666666666, 0.5714285714285715, 0.6785714285714286, 0.7380952380952381, 0.9166666666666667, 0.7948717948717948, 0.7948717948717948, 0.6615384615384615]\n",
    "PR14_aucs = [0.761904761904762, 0.48809523809523814, 0.6785714285714286, 0.5238095238095238, 0.8214285714285715, 0.7380952380952381, 0.880952380952381, 0.7564102564102564, 0.7435897435897437, 0.9692307692307693]\n",
    "PR13_aucs = [0.5595238095238095, 0.7142857142857142, 0.761904761904762, 0.6547619047619048, 0.8333333333333335, 0.7380952380952381, 0.6309523809523809, 0.8717948717948718, 0.9871794871794872, 0.6000000000000001]\n",
    "PR12_aucs = [0.6309523809523809, 0.38095238095238093, 0.6428571428571428, 0.5476190476190477, 0.8095238095238095, 0.5714285714285714, 0.9523809523809524, 0.5769230769230769, 0.7948717948717949, 0.9384615384615385]\n",
    "PR11_aucs = [0.44047619047619047, 0.41666666666666663, 0.6726190476190476, 0.4523809523809524, 0.6071428571428571, 0.8571428571428572, 0.8333333333333334, 0.8076923076923077, 0.9102564102564104, 0.876923076923077]\n",
    "PR10_aucs = [0.5, 0.4285714285714286, 0.34523809523809523, 0.35714285714285715, 0.6309523809523809, 0.6071428571428572, 0.6904761904761906, 0.8461538461538461, 0.8205128205128205, 0.5846153846153846]\n",
    "PR9_aucs = [0.21428571428571425, 0.5, 0.7380952380952381, 0.6785714285714286, 0.6904761904761905, 0.7261904761904763, 0.8809523809523809, 0.7820512820512822, 0.8717948717948719, 0.9384615384615385]\n",
    "PR8_aucs = [0.6071428571428572, 0.4166666666666667, 0.38095238095238093, 0.7142857142857143, 0.2857142857142857, 0.4642857142857143, 0.45238095238095233, 0.6794871794871795, 0.8717948717948718, 0.6923076923076923]\n",
    "PR7_aucs = [0.30952380952380953, 0.34523809523809523, 0.6666666666666667, 0.29761904761904767, 0.42857142857142855, 0.5833333333333334, 0.9166666666666667, 0.7051282051282051, 0.5256410256410255, 0.6923076923076923]\n",
    "PR6_aucs = [0.2976190476190476, 0.4880952380952381, 0.5357142857142857, 0.7380952380952381, 0.4285714285714286, 0.9166666666666667, 0.6785714285714286, 0.858974358974359, 0.935897435897436, 0.8307692307692307]\n",
    "PR5_aucs = [0.5357142857142857, 0.8333333333333334, 0.7738095238095238, 0.8690476190476191, 0.7738095238095238, 0.7023809523809524, 0.7857142857142858, 0.9871794871794872, 0.9230769230769231, 0.7538461538461538]\n",
    "PR4_aucs = [0.5, 0.9761904761904763, 0.7380952380952381, 0.7738095238095238, 0.8809523809523809, 0.6904761904761905, 0.6428571428571429, 0.6666666666666666, 0.6153846153846154, 0.7538461538461538]\n",
    "PR3_aucs = [0.8214285714285714, 0.5476190476190477, 0.30952380952380953, 0.7976190476190476, 0.7380952380952381, 0.7976190476190477, 0.8333333333333334, 0.9230769230769232, 0.9102564102564104, 0.7538461538461538]\n",
    "PR2_aucs = [0.17857142857142855, 0.6011904761904763, 0.5238095238095238, 0.6011904761904762, 0.7321428571428572, 0.6071428571428572, 0.4642857142857143, 0.44230769230769235, 0.8846153846153847, 0.6461538461538462]\n",
    "PR1_aucs = [0.7023809523809524, 0.5238095238095238, 0.5297619047619049, 0.45833333333333337, 0.6071428571428572, 0.6369047619047619, 0.6428571428571429, 0.5448717948717949, 0.7692307692307693, 0.49230769230769234]\n"
   ]
  },
  {
   "cell_type": "code",
   "execution_count": 9,
   "metadata": {
    "execution": {
     "iopub.execute_input": "2021-07-03T00:25:10.913391Z",
     "iopub.status.busy": "2021-07-03T00:25:10.912731Z",
     "iopub.status.idle": "2021-07-03T00:25:11.332330Z",
     "shell.execute_reply": "2021-07-03T00:25:11.327114Z",
     "shell.execute_reply.started": "2021-07-03T00:25:10.913118Z"
    },
    "tags": []
   },
   "outputs": [
    {
     "ename": "AttributeError",
     "evalue": "Unknown property facecolor",
     "output_type": "error",
     "traceback": [
      "\u001b[0;31m---------------------------------------------------------------------------\u001b[0m",
      "\u001b[0;31mAttributeError\u001b[0m                            Traceback (most recent call last)",
      "\u001b[0;32m<ipython-input-9-ee5343ceb2e1>\u001b[0m in \u001b[0;36m<module>\u001b[0;34m()\u001b[0m\n\u001b[1;32m     11\u001b[0m \u001b[0mplt\u001b[0m\u001b[0;34m.\u001b[0m\u001b[0mylim\u001b[0m\u001b[0;34m(\u001b[0m\u001b[0;36m0\u001b[0m\u001b[0;34m,\u001b[0m\u001b[0;36m1.0\u001b[0m\u001b[0;34m)\u001b[0m\u001b[0;34m\u001b[0m\u001b[0m\n\u001b[1;32m     12\u001b[0m \u001b[0mplt\u001b[0m\u001b[0;34m.\u001b[0m\u001b[0mxticks\u001b[0m\u001b[0;34m(\u001b[0m\u001b[0;34m[\u001b[0m\u001b[0;36m1\u001b[0m\u001b[0;34m,\u001b[0m\u001b[0;36m2\u001b[0m\u001b[0;34m,\u001b[0m\u001b[0;36m3\u001b[0m\u001b[0;34m,\u001b[0m\u001b[0;36m4\u001b[0m\u001b[0;34m,\u001b[0m\u001b[0;36m5\u001b[0m\u001b[0;34m,\u001b[0m\u001b[0;36m6\u001b[0m\u001b[0;34m,\u001b[0m\u001b[0;36m7\u001b[0m\u001b[0;34m,\u001b[0m\u001b[0;36m8\u001b[0m\u001b[0;34m,\u001b[0m\u001b[0;36m9\u001b[0m\u001b[0;34m,\u001b[0m\u001b[0;36m10\u001b[0m\u001b[0;34m,\u001b[0m\u001b[0;36m11\u001b[0m\u001b[0;34m,\u001b[0m\u001b[0;36m12\u001b[0m\u001b[0;34m,\u001b[0m\u001b[0;36m13\u001b[0m\u001b[0;34m,\u001b[0m\u001b[0;36m14\u001b[0m\u001b[0;34m,\u001b[0m\u001b[0;36m15\u001b[0m\u001b[0;34m,\u001b[0m\u001b[0;36m16\u001b[0m\u001b[0;34m,\u001b[0m\u001b[0;36m17\u001b[0m\u001b[0;34m]\u001b[0m\u001b[0;34m,\u001b[0m\u001b[0;34m[\u001b[0m\u001b[0;34m'1'\u001b[0m\u001b[0;34m,\u001b[0m \u001b[0;34m'2'\u001b[0m\u001b[0;34m,\u001b[0m \u001b[0;34m'3'\u001b[0m\u001b[0;34m,\u001b[0m \u001b[0;34m'4'\u001b[0m\u001b[0;34m,\u001b[0m\u001b[0;34m'5'\u001b[0m\u001b[0;34m,\u001b[0m \u001b[0;34m'6'\u001b[0m\u001b[0;34m,\u001b[0m\u001b[0;34m'7'\u001b[0m\u001b[0;34m,\u001b[0m\u001b[0;34m'8'\u001b[0m\u001b[0;34m,\u001b[0m\u001b[0;34m'9'\u001b[0m\u001b[0;34m,\u001b[0m\u001b[0;34m'10'\u001b[0m\u001b[0;34m,\u001b[0m\u001b[0;34m'11'\u001b[0m\u001b[0;34m,\u001b[0m\u001b[0;34m'12'\u001b[0m\u001b[0;34m,\u001b[0m\u001b[0;34m'13'\u001b[0m\u001b[0;34m,\u001b[0m\u001b[0;34m'14'\u001b[0m\u001b[0;34m,\u001b[0m\u001b[0;34m'15'\u001b[0m\u001b[0;34m,\u001b[0m\u001b[0;34m'16'\u001b[0m\u001b[0;34m,\u001b[0m\u001b[0;34m'17'\u001b[0m\u001b[0;34m,\u001b[0m\u001b[0;34m'18'\u001b[0m\u001b[0;34m]\u001b[0m\u001b[0;34m)\u001b[0m\u001b[0;34m\u001b[0m\u001b[0m\n\u001b[0;32m---> 13\u001b[0;31m \u001b[0mplt\u001b[0m\u001b[0;34m.\u001b[0m\u001b[0msetp\u001b[0m\u001b[0;34m(\u001b[0m\u001b[0mbox\u001b[0m\u001b[0;34m[\u001b[0m\u001b[0;34m'boxes'\u001b[0m\u001b[0;34m]\u001b[0m\u001b[0;34m,\u001b[0m \u001b[0mfacecolor\u001b[0m \u001b[0;34m=\u001b[0m \u001b[0;34m'yello'\u001b[0m\u001b[0;34m)\u001b[0m\u001b[0;34m\u001b[0m\u001b[0m\n\u001b[0m\u001b[1;32m     14\u001b[0m \u001b[0mplt\u001b[0m\u001b[0;34m.\u001b[0m\u001b[0mshow\u001b[0m\u001b[0;34m(\u001b[0m\u001b[0;34m)\u001b[0m\u001b[0;34m\u001b[0m\u001b[0m\n",
      "\u001b[0;32m/home/miruware/anaconda3/envs/env_tf1/lib/python2.7/site-packages/matplotlib/pyplot.pyc\u001b[0m in \u001b[0;36msetp\u001b[0;34m(*args, **kwargs)\u001b[0m\n\u001b[1;32m    351\u001b[0m \u001b[0;34m@\u001b[0m\u001b[0mdocstring\u001b[0m\u001b[0;34m.\u001b[0m\u001b[0mcopy\u001b[0m\u001b[0;34m(\u001b[0m\u001b[0m_setp\u001b[0m\u001b[0;34m)\u001b[0m\u001b[0;34m\u001b[0m\u001b[0m\n\u001b[1;32m    352\u001b[0m \u001b[0;32mdef\u001b[0m \u001b[0msetp\u001b[0m\u001b[0;34m(\u001b[0m\u001b[0;34m*\u001b[0m\u001b[0margs\u001b[0m\u001b[0;34m,\u001b[0m \u001b[0;34m**\u001b[0m\u001b[0mkwargs\u001b[0m\u001b[0;34m)\u001b[0m\u001b[0;34m:\u001b[0m\u001b[0;34m\u001b[0m\u001b[0m\n\u001b[0;32m--> 353\u001b[0;31m     \u001b[0;32mreturn\u001b[0m \u001b[0m_setp\u001b[0m\u001b[0;34m(\u001b[0m\u001b[0;34m*\u001b[0m\u001b[0margs\u001b[0m\u001b[0;34m,\u001b[0m \u001b[0;34m**\u001b[0m\u001b[0mkwargs\u001b[0m\u001b[0;34m)\u001b[0m\u001b[0;34m\u001b[0m\u001b[0m\n\u001b[0m\u001b[1;32m    354\u001b[0m \u001b[0;34m\u001b[0m\u001b[0m\n\u001b[1;32m    355\u001b[0m \u001b[0;34m\u001b[0m\u001b[0m\n",
      "\u001b[0;32m/home/miruware/anaconda3/envs/env_tf1/lib/python2.7/site-packages/matplotlib/artist.pyc\u001b[0m in \u001b[0;36msetp\u001b[0;34m(obj, *args, **kwargs)\u001b[0m\n\u001b[1;32m   1468\u001b[0m \u001b[0;34m\u001b[0m\u001b[0m\n\u001b[1;32m   1469\u001b[0m     \u001b[0mret\u001b[0m \u001b[0;34m=\u001b[0m \u001b[0;34m[\u001b[0m\u001b[0mo\u001b[0m\u001b[0;34m.\u001b[0m\u001b[0mupdate\u001b[0m\u001b[0;34m(\u001b[0m\u001b[0mfuncvals\u001b[0m\u001b[0;34m)\u001b[0m \u001b[0;32mfor\u001b[0m \u001b[0mo\u001b[0m \u001b[0;32min\u001b[0m \u001b[0mobjs\u001b[0m\u001b[0;34m]\u001b[0m\u001b[0;34m\u001b[0m\u001b[0m\n\u001b[0;32m-> 1470\u001b[0;31m     \u001b[0mret\u001b[0m\u001b[0;34m.\u001b[0m\u001b[0mextend\u001b[0m\u001b[0;34m(\u001b[0m\u001b[0;34m[\u001b[0m\u001b[0mo\u001b[0m\u001b[0;34m.\u001b[0m\u001b[0mset\u001b[0m\u001b[0;34m(\u001b[0m\u001b[0;34m**\u001b[0m\u001b[0mkwargs\u001b[0m\u001b[0;34m)\u001b[0m \u001b[0;32mfor\u001b[0m \u001b[0mo\u001b[0m \u001b[0;32min\u001b[0m \u001b[0mobjs\u001b[0m\u001b[0;34m]\u001b[0m\u001b[0;34m)\u001b[0m\u001b[0;34m\u001b[0m\u001b[0m\n\u001b[0m\u001b[1;32m   1471\u001b[0m     \u001b[0;32mreturn\u001b[0m \u001b[0;34m[\u001b[0m\u001b[0mx\u001b[0m \u001b[0;32mfor\u001b[0m \u001b[0mx\u001b[0m \u001b[0;32min\u001b[0m \u001b[0mcbook\u001b[0m\u001b[0;34m.\u001b[0m\u001b[0mflatten\u001b[0m\u001b[0;34m(\u001b[0m\u001b[0mret\u001b[0m\u001b[0;34m)\u001b[0m\u001b[0;34m]\u001b[0m\u001b[0;34m\u001b[0m\u001b[0m\n\u001b[1;32m   1472\u001b[0m \u001b[0;34m\u001b[0m\u001b[0m\n",
      "\u001b[0;32m/home/miruware/anaconda3/envs/env_tf1/lib/python2.7/site-packages/matplotlib/artist.pyc\u001b[0m in \u001b[0;36mset\u001b[0;34m(self, **kwargs)\u001b[0m\n\u001b[1;32m    991\u001b[0m                    key=lambda x: (self._prop_order.get(x[0], 0), x[0])))\n\u001b[1;32m    992\u001b[0m \u001b[0;34m\u001b[0m\u001b[0m\n\u001b[0;32m--> 993\u001b[0;31m         \u001b[0;32mreturn\u001b[0m \u001b[0mself\u001b[0m\u001b[0;34m.\u001b[0m\u001b[0mupdate\u001b[0m\u001b[0;34m(\u001b[0m\u001b[0mprops\u001b[0m\u001b[0;34m)\u001b[0m\u001b[0;34m\u001b[0m\u001b[0m\n\u001b[0m\u001b[1;32m    994\u001b[0m \u001b[0;34m\u001b[0m\u001b[0m\n\u001b[1;32m    995\u001b[0m     \u001b[0;32mdef\u001b[0m \u001b[0mfindobj\u001b[0m\u001b[0;34m(\u001b[0m\u001b[0mself\u001b[0m\u001b[0;34m,\u001b[0m \u001b[0mmatch\u001b[0m\u001b[0;34m=\u001b[0m\u001b[0mNone\u001b[0m\u001b[0;34m,\u001b[0m \u001b[0minclude_self\u001b[0m\u001b[0;34m=\u001b[0m\u001b[0mTrue\u001b[0m\u001b[0;34m)\u001b[0m\u001b[0;34m:\u001b[0m\u001b[0;34m\u001b[0m\u001b[0m\n",
      "\u001b[0;32m/home/miruware/anaconda3/envs/env_tf1/lib/python2.7/site-packages/matplotlib/artist.pyc\u001b[0m in \u001b[0;36mupdate\u001b[0;34m(self, props)\u001b[0m\n\u001b[1;32m    886\u001b[0m         \u001b[0;32mtry\u001b[0m\u001b[0;34m:\u001b[0m\u001b[0;34m\u001b[0m\u001b[0m\n\u001b[1;32m    887\u001b[0m             ret = [_update_property(self, k, v)\n\u001b[0;32m--> 888\u001b[0;31m                    for k, v in props.items()]\n\u001b[0m\u001b[1;32m    889\u001b[0m         \u001b[0;32mfinally\u001b[0m\u001b[0;34m:\u001b[0m\u001b[0;34m\u001b[0m\u001b[0m\n\u001b[1;32m    890\u001b[0m             \u001b[0mself\u001b[0m\u001b[0;34m.\u001b[0m\u001b[0meventson\u001b[0m \u001b[0;34m=\u001b[0m \u001b[0mstore\u001b[0m\u001b[0;34m\u001b[0m\u001b[0m\n",
      "\u001b[0;32m/home/miruware/anaconda3/envs/env_tf1/lib/python2.7/site-packages/matplotlib/artist.pyc\u001b[0m in \u001b[0;36m_update_property\u001b[0;34m(self, k, v)\u001b[0m\n\u001b[1;32m    879\u001b[0m                 \u001b[0mfunc\u001b[0m \u001b[0;34m=\u001b[0m \u001b[0mgetattr\u001b[0m\u001b[0;34m(\u001b[0m\u001b[0mself\u001b[0m\u001b[0;34m,\u001b[0m \u001b[0;34m'set_'\u001b[0m \u001b[0;34m+\u001b[0m \u001b[0mk\u001b[0m\u001b[0;34m,\u001b[0m \u001b[0mNone\u001b[0m\u001b[0;34m)\u001b[0m\u001b[0;34m\u001b[0m\u001b[0m\n\u001b[1;32m    880\u001b[0m                 \u001b[0;32mif\u001b[0m \u001b[0;32mnot\u001b[0m \u001b[0mcallable\u001b[0m\u001b[0;34m(\u001b[0m\u001b[0mfunc\u001b[0m\u001b[0;34m)\u001b[0m\u001b[0;34m:\u001b[0m\u001b[0;34m\u001b[0m\u001b[0m\n\u001b[0;32m--> 881\u001b[0;31m                     \u001b[0;32mraise\u001b[0m \u001b[0mAttributeError\u001b[0m\u001b[0;34m(\u001b[0m\u001b[0;34m'Unknown property %s'\u001b[0m \u001b[0;34m%\u001b[0m \u001b[0mk\u001b[0m\u001b[0;34m)\u001b[0m\u001b[0;34m\u001b[0m\u001b[0m\n\u001b[0m\u001b[1;32m    882\u001b[0m                 \u001b[0;32mreturn\u001b[0m \u001b[0mfunc\u001b[0m\u001b[0;34m(\u001b[0m\u001b[0mv\u001b[0m\u001b[0;34m)\u001b[0m\u001b[0;34m\u001b[0m\u001b[0m\n\u001b[1;32m    883\u001b[0m \u001b[0;34m\u001b[0m\u001b[0m\n",
      "\u001b[0;31mAttributeError\u001b[0m: Unknown property facecolor"
     ]
    },
    {
     "data": {
      "image/png": "[encoded data removed]",
      "text/plain": [
       "<Figure size 432x288 with 1 Axes>"
      ]
     },
     "metadata": {
      "needs_background": "light"
     },
     "output_type": "display_data"
    }
   ],
   "source": [
    "fig, ax = plt.subplots()\n",
    "box = ax.boxplot([PR2_aucs, PR3_aucs, PR4_aucs, \n",
    "            PR5_aucs, PR6_aucs, PR7_aucs, \n",
    "            PR8_aucs, PR9_aucs, PR10_aucs,\n",
    "            PR11_aucs, PR12_aucs, PR13_aucs,\n",
    "            PR14_aucs, PR15_aucs, PR16_aucs,\n",
    "            PR17_aucs, PR18_aucs])\n",
    "plt.title('Box plot of aucs')\n",
    "plt.ylabel('AUROC')\n",
    "plt.xlabel('Number of Input Features')\n",
    "plt.ylim(0,1.0)\n",
    "plt.xticks([1,2,3,4,5,6,7,8,9,10,11,12,13,14,15,16,17],['1', '2', '3', '4','5', '6','7','8','9','10','11','12','13','14','15','16','17','18'])\n",
    "plt.setp(box['boxes'], facecolor = 'yello')\n",
    "plt.show()"
   ]
  },
  {
   "cell_type": "code",
   "execution_count": 6,
   "metadata": {
    "execution": {
     "iopub.execute_input": "2021-07-01T06:20:29.657731Z",
     "iopub.status.busy": "2021-07-01T06:20:29.657193Z",
     "iopub.status.idle": "2021-07-01T06:20:29.666572Z",
     "shell.execute_reply": "2021-07-01T06:20:29.664231Z",
     "shell.execute_reply.started": "2021-07-01T06:20:29.657643Z"
    },
    "tags": []
   },
   "outputs": [],
   "source": [
    "all_aucs = [PR1_aucs, PR2_aucs, PR3_aucs, PR4_aucs, PR5_aucs, PR6_aucs, PR7_aucs, PR8_aucs, PR9_aucs, PR10_aucs,\n",
    "            PR11_aucs, PR12_aucs, PR13_aucs, PR14_aucs, PR15_aucs, PR16_aucs, PR17_aucs, PR18_aucs]"
   ]
  },
  {
   "cell_type": "code",
   "execution_count": 7,
   "metadata": {
    "execution": {
     "iopub.execute_input": "2021-07-01T06:20:30.111003Z",
     "iopub.status.busy": "2021-07-01T06:20:30.110489Z",
     "iopub.status.idle": "2021-07-01T06:20:30.571214Z",
     "shell.execute_reply": "2021-07-01T06:20:30.568764Z",
     "shell.execute_reply.started": "2021-07-01T06:20:30.110917Z"
    },
    "tags": []
   },
   "outputs": [
    {
     "data": {
      "image/png": "[encoded data removed]",
      "text/plain": [
       "<Figure size 900x600 with 1 Axes>"
      ]
     },
     "metadata": {
      "needs_background": "light"
     },
     "output_type": "display_data"
    }
   ],
   "source": [
    "boxprops = dict(facecolor='white')\n",
    "medianprops = dict(linewidth = 0)\n",
    "meanlineprops = dict(linestyle='-', linewidth=1)\n",
    "plt.figure(figsize=(6, 4), dpi=150)\n",
    "bp = plt.boxplot(all_aucs, patch_artist=True, showfliers=False, meanline = True, showmeans=True, boxprops=boxprops, meanprops=meanlineprops, medianprops=medianprops)\n",
    "# plt.title('Box plot of aucs')\n",
    "plt.ylabel('AUROC')\n",
    "plt.xlabel('Eliminated Feature at each step of RFE')\n",
    "# plt.xlabel('Number of input Features')\n",
    "plt.ylim(0, 1.0)\n",
    "plt.xticks([1,2,3,4,5,6,7,8,9,10,11,12,13,14,15,16,17,18], ['homogeneous', 'lMax','AorCa', 'cN','LymCa', 'aAverage','sex','cAverage','LR','clustered','non-mass','aSD','LymAo','cSD','age','rim','hetero','cT'], rotation=90)\n",
    "# plt.xticks([1,2,3,4,5,6,7,8,9,10,11,12,13,14,15,16,17,18], ['1', '2', '3', '4','5', '6','7','8','9','10','11','12','13','14','15','16','17','18'])\n",
    "\n",
    "for i, box in enumerate(bp[\"means\"]):\n",
    "#     print(i, box)\n",
    "    if i == 11:\n",
    "        box.set(color='red')\n",
    "        \n",
    "for i, box in enumerate(bp[\"boxes\"]):\n",
    "#     print(i, box)\n",
    "    if i == 11:\n",
    "        box.set(facecolor='yellow')\n",
    "#     else:\n",
    "#         box.set(facecolor='white')\n",
    "\n",
    "# for median in bp[\"medians\"]:\n",
    "#     median.set(color=\"#b2df8a\", linewidth=2)\n",
    "\n",
    "# plt.show()\n",
    "# bp.set_figwidth(12)\n",
    "# bp.set_figheight(8)\n",
    "# plt.autoscale()\n",
    "# fig_width, fig_height = plt.gcf().get_size_inches()\n",
    "plt.savefig('./RFE_result_feature_name.png', bbox_inches='tight', bpi = 150)"
   ]
  },
  {
   "cell_type": "code",
   "execution_count": 10,
   "metadata": {
    "execution": {
     "iopub.execute_input": "2021-07-03T00:25:41.672010Z",
     "iopub.status.busy": "2021-07-03T00:25:41.671586Z",
     "iopub.status.idle": "2021-07-03T00:25:41.708668Z",
     "shell.execute_reply": "2021-07-03T00:25:41.705449Z",
     "shell.execute_reply.started": "2021-07-03T00:25:41.671942Z"
    },
    "tags": []
   },
   "outputs": [],
   "source": [
    "PR18_aucs = [0.27380952380952384, 0.7857142857142858, 0.6666666666666667, 0.6309523809523809, 0.7023809523809523, 0.6785714285714286, 0.8214285714285715, 0.653846153846154, 0.4358974358974359, 0.8]\n",
    "PR17_aucs = [0.488095238095238, 0.6071428571428572, 0.6785714285714286, 0.7738095238095238, 0.511904761904762, 0.8333333333333334, 0.8214285714285714, 0.9230769230769231, 0.9358974358974359, 0.8769230769230769]\n",
    "PR16_aucs = [0.19047619047619047, 0.6071428571428572, 0.4642857142857143, 0.4404761904761905, 0.8928571428571429, 0.6309523809523809, 0.7261904761904762, 0.8076923076923076, 0.9358974358974359, 0.7230769230769231]\n",
    "PR15_aucs = [0.2261904761904762, 0.75, 0.6666666666666666, 0.5714285714285715, 0.6785714285714286, 0.7380952380952381, 0.9166666666666667, 0.7948717948717948, 0.7948717948717948, 0.6615384615384615]\n",
    "PR14_aucs = [0.761904761904762, 0.48809523809523814, 0.6785714285714286, 0.5238095238095238, 0.8214285714285715, 0.7380952380952381, 0.880952380952381, 0.7564102564102564, 0.7435897435897437, 0.9692307692307693]\n",
    "PR13_aucs = [0.5595238095238095, 0.7142857142857142, 0.761904761904762, 0.6547619047619048, 0.8333333333333335, 0.7380952380952381, 0.6309523809523809, 0.8717948717948718, 0.9871794871794872, 0.6000000000000001]\n",
    "PR12_aucs = [0.6309523809523809, 0.38095238095238093, 0.6428571428571428, 0.5476190476190477, 0.8095238095238095, 0.5714285714285714, 0.9523809523809524, 0.5769230769230769, 0.7948717948717949, 0.9384615384615385]\n",
    "PR11_aucs = [0.44047619047619047, 0.41666666666666663, 0.6726190476190476, 0.4523809523809524, 0.6071428571428571, 0.8571428571428572, 0.8333333333333334, 0.8076923076923077, 0.9102564102564104, 0.876923076923077]\n",
    "PR10_aucs = [0.5, 0.4285714285714286, 0.34523809523809523, 0.35714285714285715, 0.6309523809523809, 0.6071428571428572, 0.6904761904761906, 0.8461538461538461, 0.8205128205128205, 0.5846153846153846]\n",
    "PR9_aucs = [0.21428571428571425, 0.5, 0.7380952380952381, 0.6785714285714286, 0.6904761904761905, 0.7261904761904763, 0.8809523809523809, 0.7820512820512822, 0.8717948717948719, 0.9384615384615385]\n",
    "PR8_aucs = [0.6071428571428572, 0.4166666666666667, 0.38095238095238093, 0.7142857142857143, 0.2857142857142857, 0.4642857142857143, 0.45238095238095233, 0.6794871794871795, 0.8717948717948718, 0.6923076923076923]\n",
    "PR7_aucs = [0.30952380952380953, 0.34523809523809523, 0.6666666666666667, 0.29761904761904767, 0.42857142857142855, 0.5833333333333334, 0.9166666666666667, 0.7051282051282051, 0.5256410256410255, 0.6923076923076923]\n",
    "PR6_aucs = [0.2976190476190476, 0.4880952380952381, 0.5357142857142857, 0.7380952380952381, 0.4285714285714286, 0.9166666666666667, 0.6785714285714286, 0.858974358974359, 0.935897435897436, 0.8307692307692307]\n",
    "PR5_aucs = [0.5357142857142857, 0.8333333333333334, 0.7738095238095238, 0.8690476190476191, 0.7738095238095238, 0.7023809523809524, 0.7857142857142858, 0.9871794871794872, 0.9230769230769231, 0.7538461538461538]\n",
    "PR4_aucs = [0.5, 0.9761904761904763, 0.7380952380952381, 0.7738095238095238, 0.8809523809523809, 0.6904761904761905, 0.6428571428571429, 0.6666666666666666, 0.6153846153846154, 0.7538461538461538]\n",
    "PR3_aucs = [0.8214285714285714, 0.5476190476190477, 0.30952380952380953, 0.7976190476190476, 0.7380952380952381, 0.7976190476190477, 0.8333333333333334, 0.9230769230769232, 0.9102564102564104, 0.7538461538461538]\n",
    "PR2_aucs = [0.17857142857142855, 0.6011904761904763, 0.5238095238095238, 0.6011904761904762, 0.7321428571428572, 0.6071428571428572, 0.4642857142857143, 0.44230769230769235, 0.8846153846153847, 0.6461538461538462]\n",
    "PR1_aucs = [0.7023809523809524, 0.5238095238095238, 0.5297619047619049, 0.45833333333333337, 0.6071428571428572, 0.6369047619047619, 0.6428571428571429, 0.5448717948717949, 0.7692307692307693, 0.49230769230769234]\n",
    "all_aucs = [PR1_aucs, PR2_aucs, PR3_aucs, PR4_aucs, PR5_aucs, PR6_aucs, PR7_aucs, PR8_aucs, PR9_aucs, PR10_aucs,\n",
    "            PR11_aucs, PR12_aucs, PR13_aucs, PR14_aucs, PR15_aucs, PR16_aucs, PR17_aucs, PR18_aucs]\n",
    "list_mean = []\n",
    "for aucs in all_aucs:\n",
    "    list_mean.append(np.mean(aucs))\n",
    "#     print(str(np.mean(aucs)))"
   ]
  },
  {
   "cell_type": "code",
   "execution_count": 12,
   "metadata": {
    "execution": {
     "iopub.execute_input": "2021-07-03T00:26:49.014712Z",
     "iopub.status.busy": "2021-07-03T00:26:49.014206Z",
     "iopub.status.idle": "2021-07-03T00:26:49.027727Z",
     "shell.execute_reply": "2021-07-03T00:26:49.025631Z",
     "shell.execute_reply.started": "2021-07-03T00:26:49.014633Z"
    },
    "tags": []
   },
   "outputs": [
    {
     "data": {
      "text/plain": [
       "0.79379120879120879"
      ]
     },
     "execution_count": 12,
     "metadata": {},
     "output_type": "execute_result"
    }
   ],
   "source": [
    "np.max(list_mean)"
   ]
  },
  {
   "cell_type": "code",
   "execution_count": 17,
   "metadata": {
    "execution": {
     "iopub.execute_input": "2021-06-28T07:50:33.947482Z",
     "iopub.status.busy": "2021-06-28T07:50:33.946672Z",
     "iopub.status.idle": "2021-06-28T07:50:33.960225Z",
     "shell.execute_reply": "2021-06-28T07:50:33.957085Z",
     "shell.execute_reply.started": "2021-06-28T07:50:33.947149Z"
    },
    "tags": []
   },
   "outputs": [
    {
     "data": {
      "text/plain": [
       "(6.0, 4.0)"
      ]
     },
     "execution_count": 17,
     "metadata": {},
     "output_type": "execute_result"
    }
   ],
   "source": [
    "fig_width, fig_height"
   ]
  },
  {
   "cell_type": "code",
   "execution_count": 65,
   "metadata": {
    "execution": {
     "iopub.execute_input": "2021-06-28T06:56:11.553384Z",
     "iopub.status.busy": "2021-06-28T06:56:11.552643Z",
     "iopub.status.idle": "2021-06-28T06:56:11.565604Z",
     "shell.execute_reply": "2021-06-28T06:56:11.562679Z",
     "shell.execute_reply.started": "2021-06-28T06:56:11.553293Z"
    }
   },
   "outputs": [
    {
     "data": {
      "text/plain": [
       "0.79076923076923089"
      ]
     },
     "execution_count": 65,
     "metadata": {},
     "output_type": "execute_result"
    }
   ],
   "source": [
    "list_mean[11]"
   ]
  },
  {
   "cell_type": "code",
   "execution_count": 67,
   "metadata": {
    "execution": {
     "iopub.execute_input": "2021-06-28T07:07:57.683532Z",
     "iopub.status.busy": "2021-06-28T07:07:57.682977Z",
     "iopub.status.idle": "2021-06-28T07:07:57.694541Z",
     "shell.execute_reply": "2021-06-28T07:07:57.691263Z",
     "shell.execute_reply.started": "2021-06-28T07:07:57.683446Z"
    },
    "tags": []
   },
   "outputs": [
    {
     "name": "stdout",
     "output_type": "stream",
     "text": [
      "0\n",
      "1\n",
      "2\n",
      "3\n",
      "4\n",
      "5\n",
      "6\n",
      "7\n",
      "8\n",
      "9\n"
     ]
    }
   ],
   "source": [
    "for i in range (10):\n",
    "#     if i == 5:\n",
    "#         break\n",
    "    print(i)\n",
    "    "
   ]
  },
  {
   "cell_type": "code",
   "execution_count": 8,
   "metadata": {
    "execution": {
     "iopub.execute_input": "2021-06-28T07:30:12.630892Z",
     "iopub.status.busy": "2021-06-28T07:30:12.630563Z",
     "iopub.status.idle": "2021-06-28T07:30:12.641084Z",
     "shell.execute_reply": "2021-06-28T07:30:12.638508Z",
     "shell.execute_reply.started": "2021-06-28T07:30:12.630840Z"
    },
    "tags": []
   },
   "outputs": [
    {
     "data": {
      "text/plain": [
       "<matplotlib.lines.Line2D at 0x7f5c0b21c350>"
      ]
     },
     "execution_count": 8,
     "metadata": {},
     "output_type": "execute_result"
    }
   ],
   "source": [
    "bp[\"means\"][11]"
   ]
  },
  {
   "cell_type": "code",
   "execution_count": 15,
   "metadata": {
    "execution": {
     "iopub.execute_input": "2021-06-28T07:50:03.040934Z",
     "iopub.status.busy": "2021-06-28T07:50:03.039910Z",
     "iopub.status.idle": "2021-06-28T07:50:03.057756Z",
     "shell.execute_reply": "2021-06-28T07:50:03.054801Z",
     "shell.execute_reply.started": "2021-06-28T07:50:03.040598Z"
    }
   },
   "outputs": [
    {
     "data": {
      "text/plain": [
       "<Figure size 432x288 with 0 Axes>"
      ]
     },
     "metadata": {},
     "output_type": "display_data"
    }
   ],
   "source": [
    "fig_width, fig_height = plt.gcf().get_size_inches()"
   ]
  },
  {
   "cell_type": "code",
   "execution_count": 36,
   "metadata": {
    "execution": {
     "iopub.execute_input": "2021-06-28T08:52:25.810450Z",
     "iopub.status.busy": "2021-06-28T08:52:25.809899Z",
     "iopub.status.idle": "2021-06-28T08:52:25.854802Z",
     "shell.execute_reply": "2021-06-28T08:52:25.852096Z",
     "shell.execute_reply.started": "2021-06-28T08:52:25.810353Z"
    },
    "tags": []
   },
   "outputs": [
    {
     "data": {
      "text/plain": [
       "3"
      ]
     },
     "execution_count": 36,
     "metadata": {},
     "output_type": "execute_result"
    }
   ],
   "source": [
    "PR18_aucs = [0.5, 0.7738095238095238, 0.7380952380952381, 0.7380952380952381, 0.8333333333333333, 0.38095238095238093, 0.6666666666666667, 0.8205128205128206, 0.9615384615384616, 0.7846153846153846]\n",
    "PR17_aucs = [0.35714285714285715, 0.5357142857142857, 0.4285714285714286, 0.7142857142857143, 0.5, 0.4404761904761905, 0.5595238095238095, 0.9358974358974359, 0.8461538461538461, 0.6000000000000001]\n",
    "PR16_aucs = [0.6666666666666667, 0.4523809523809524, 0.5952380952380952, 0.5238095238095238, 0.6309523809523809, 0.5119047619047619, 0.7261904761904762, 0.7564102564102565, 0.717948717948718, 0.7692307692307693]\n",
    "PR15_aucs = [0.6428571428571429, 0.5952380952380952, 0.7261904761904762, 0.6547619047619048, 0.7261904761904762, 0.7142857142857143, 0.9880952380952381, 0.8076923076923077, 0.9230769230769231, 0.8769230769230769]\n",
    "PR14_aucs = [0.5357142857142857, 0.5714285714285714, 0.8690476190476191, 0.8809523809523809, 0.6309523809523809, 0.9047619047619048, 0.6904761904761904, 0.8846153846153847, 0.7692307692307693, 0.8461538461538461]\n",
    "PR13_aucs = [0.6785714285714286, 0.7261904761904762, 0.8333333333333334, 0.7380952380952381, 0.7380952380952381, 0.8690476190476191, 0.9404761904761905, 0.7179487179487181, 1.0, 0.6615384615384615]\n",
    "PR12_aucs = [0.5476190476190477, 0.33333333333333337, 0.8095238095238095, 0.5714285714285714, 0.7023809523809524, 0.7619047619047619, 0.6904761904761905, 0.9230769230769231, 0.9358974358974359, 0.8923076923076922]\n",
    "PR11_aucs = [0.45238095238095244, 0.30952380952380953, 0.4642857142857143, 0.2261904761904762, 0.6190476190476191, 0.5476190476190477, 0.6547619047619047, 0.6410256410256411, 0.6282051282051282, 0.6307692307692309]\n",
    "PR10_aucs = [0.773809523809524, 0.5, 0.6785714285714285, 0.5595238095238095, 0.6071428571428572, 0.6547619047619048, 0.8928571428571428, 0.8974358974358975, 0.7435897435897436, 0.9692307692307692]\n",
    "PR9_aucs = [0.5714285714285715, 0.6428571428571429, 0.4166666666666667, 0.6428571428571428, 0.7142857142857143, 0.630952380952381, 0.761904761904762, 0.7564102564102564, 0.8717948717948719, 0.8461538461538463]\n",
    "PR8_aucs = [0.41666666666666674, 0.7380952380952381, 0.6190476190476191, 0.7857142857142857, 0.9404761904761905, 0.8928571428571429, 1.0, 0.9871794871794872, 0.8076923076923077, 0.8923076923076922]\n",
    "PR7_aucs = [0.75, 0.7380952380952381, 0.5595238095238095, 0.9047619047619048, 0.8095238095238096, 0.9047619047619048, 0.9523809523809524, 0.7692307692307694, 0.8717948717948718, 0.8]\n",
    "PR6_aucs = [0.8214285714285714, 0.6428571428571428, 0.9642857142857143, 0.9285714285714286, 0.8214285714285714, 0.9523809523809524, 0.8928571428571429, 0.8461538461538463, 0.858974358974359, 0.5692307692307692]\n",
    "PR5_aucs = [0.6904761904761905, 0.6904761904761905, 0.9047619047619049, 0.8571428571428572, 0.8452380952380952, 0.9047619047619049, 0.8095238095238095, 0.8846153846153848, 0.9487179487179488, 0.8461538461538461]\n",
    "PR4_aucs = [0.4642857142857143, 0.6071428571428572, 0.6309523809523809, 0.6904761904761906, 0.738095238095238, 0.6428571428571428, 0.7738095238095237, 1.0, 0.9358974358974359, 0.7230769230769232]\n",
    "PR3_aucs = [0.48809523809523814, 0.4880952380952381, 0.47619047619047616, 0.9166666666666667, 0.5476190476190476, 0.5, 0.5, 0.782051282051282, 0.7435897435897436, 0.7846153846153847]\n",
    "PR2_aucs = [0.38095238095238093, 0.8750000000000001, 0.6845238095238095, 0.7083333333333333, 0.8511904761904762, 0.9047619047619048, 0.8928571428571428, 0.8846153846153847, 0.9423076923076924, 0.8461538461538463]\n",
    "\n",
    "all_aucs = [PR2_aucs, PR3_aucs, PR4_aucs, PR5_aucs, PR6_aucs, PR7_aucs, PR8_aucs, PR9_aucs, PR10_aucs,\n",
    "            PR11_aucs, PR12_aucs, PR13_aucs, PR14_aucs, PR15_aucs, PR16_aucs, PR17_aucs, PR18_aucs]\n",
    "list_mean = []\n",
    "for aucs in all_aucs:\n",
    "    list_mean.append(np.mean(aucs))\n",
    "    \n",
    "    \n",
    "np.argmax(list_mean)"
   ]
  },
  {
   "cell_type": "code",
   "execution_count": 37,
   "metadata": {
    "execution": {
     "iopub.execute_input": "2021-06-28T08:52:36.237561Z",
     "iopub.status.busy": "2021-06-28T08:52:36.237049Z",
     "iopub.status.idle": "2021-06-28T08:52:36.250239Z",
     "shell.execute_reply": "2021-06-28T08:52:36.247071Z",
     "shell.execute_reply.started": "2021-06-28T08:52:36.237481Z"
    },
    "tags": []
   },
   "outputs": [
    {
     "data": {
      "text/plain": [
       "[0.79706959706959712,\n",
       " 0.62269230769230766,\n",
       " 0.72065934065934067,\n",
       " 0.83818681318681332,\n",
       " 0.82981684981684967,\n",
       " 0.80600732600732616,\n",
       " 0.80800366300366289,\n",
       " 0.68553113553113554,\n",
       " 0.72769230769230764,\n",
       " 0.5173809523809525,\n",
       " 0.71679487179487178,\n",
       " 0.79032967032967039,\n",
       " 0.75833333333333319,\n",
       " 0.76553113553113561,\n",
       " 0.63507326007326004,\n",
       " 0.59177655677655672,\n",
       " 0.71976190476190482]"
      ]
     },
     "execution_count": 37,
     "metadata": {},
     "output_type": "execute_result"
    }
   ],
   "source": [
    "list_mean"
   ]
  },
  {
   "cell_type": "code",
   "execution_count": 38,
   "metadata": {
    "execution": {
     "iopub.execute_input": "2021-06-28T08:52:57.118447Z",
     "iopub.status.busy": "2021-06-28T08:52:57.117931Z",
     "iopub.status.idle": "2021-06-28T08:52:57.131041Z",
     "shell.execute_reply": "2021-06-28T08:52:57.127723Z",
     "shell.execute_reply.started": "2021-06-28T08:52:57.118365Z"
    }
   },
   "outputs": [
    {
     "data": {
      "text/plain": [
       "0.83818681318681332"
      ]
     },
     "execution_count": 38,
     "metadata": {},
     "output_type": "execute_result"
    }
   ],
   "source": [
    "list_mean[3]"
   ]
  },
  {
   "cell_type": "code",
   "execution_count": 39,
   "metadata": {
    "execution": {
     "iopub.execute_input": "2021-06-28T08:53:16.158469Z",
     "iopub.status.busy": "2021-06-28T08:53:16.157930Z",
     "iopub.status.idle": "2021-06-28T08:53:16.170630Z",
     "shell.execute_reply": "2021-06-28T08:53:16.167579Z",
     "shell.execute_reply.started": "2021-06-28T08:53:16.158382Z"
    }
   },
   "outputs": [
    {
     "data": {
      "text/plain": [
       "0.79706959706959712"
      ]
     },
     "execution_count": 39,
     "metadata": {},
     "output_type": "execute_result"
    }
   ],
   "source": [
    "list_mean[0]"
   ]
  },
  {
   "cell_type": "code",
   "execution_count": 40,
   "metadata": {
    "execution": {
     "iopub.execute_input": "2021-06-28T21:21:00.479259Z",
     "iopub.status.busy": "2021-06-28T21:21:00.478675Z",
     "iopub.status.idle": "2021-06-28T21:21:00.510979Z",
     "shell.execute_reply": "2021-06-28T21:21:00.508145Z",
     "shell.execute_reply.started": "2021-06-28T21:21:00.479167Z"
    }
   },
   "outputs": [],
   "source": [
    "# model_6_NN_grid_sklearn_00\n",
    "\n",
    "PR18_aucs = [0.26190476190476186, 0.6071428571428572, 0.5714285714285715, 0.380952380952381, 0.5, 0.7261904761904763, 0.5476190476190477, 0.8333333333333334, 0.641025641025641, 0.8307692307692307]\n",
    "PR18_aucs = [0.4642857142857143, 0.4285714285714286, 0.5238095238095238, 0.5714285714285714, 0.5595238095238095, 0.5476190476190477, 0.630952380952381, 0.7051282051282052, 0.782051282051282, 0.7846153846153846]\n",
    "PR17_aucs = [0.7261904761904763, 0.511904761904762, 0.6904761904761905, 0.6428571428571429, 0.5595238095238095, 0.5, 0.8214285714285714, 0.8076923076923077, 0.5512820512820513, 0.7846153846153846]\n",
    "PR16_aucs = [0.6547619047619049, 0.5476190476190477, 0.761904761904762, 0.6666666666666667, 0.7738095238095238, 0.7023809523809523, 0.761904761904762, 0.8461538461538461, 0.7435897435897436, 0.5538461538461539]\n",
    "PR15_aucs = [0.5714285714285714, 0.6666666666666667, 0.8214285714285714, 0.6785714285714286, 0.9166666666666666, 0.7619047619047619, 0.7857142857142857, 0.9102564102564104, 0.9358974358974359, 0.9230769230769231]\n",
    "PR14_aucs = [0.5238095238095238, 0.6428571428571428, 0.8095238095238095, 0.6428571428571429, 0.8928571428571429, 0.7619047619047619, 0.7142857142857143, 0.6923076923076923, 0.9743589743589745, 0.9384615384615385]\n",
    "PR13_aucs = [0.34523809523809523, 0.761904761904762, 0.5357142857142857, 0.6547619047619048, 0.8571428571428572, 0.7619047619047619, 0.8690476190476191, 0.7948717948717949, 0.576923076923077, 0.8769230769230769]\n",
    "PR12_aucs = [0.5119047619047619, 0.5238095238095238, 0.3928571428571429, 0.42857142857142855, 0.5714285714285714, 0.8333333333333334, 0.5238095238095238, 0.6923076923076923, 0.5, 0.8461538461538461]\n",
    "PR11_aucs = [0.3214285714285715, 0.5238095238095238, 0.7738095238095238, 0.9404761904761905, 0.7023809523809524, 0.75, 0.9166666666666666, 0.9487179487179488, 0.9230769230769231, 0.8153846153846154]\n",
    "PR10_aucs = [0.75, 0.6547619047619049, 0.6190476190476191, 0.7619047619047619, 0.7857142857142857, 0.7142857142857144, 0.7380952380952381, 0.9743589743589745, 0.8717948717948718, 0.8923076923076924]\n",
    "PR9_aucs = [0.35714285714285715, 0.38095238095238093, 0.6309523809523809, 0.8690476190476191, 0.7023809523809524, 0.9404761904761906, 0.6428571428571429, 0.8205128205128206, 0.6794871794871795, 0.8153846153846154]\n",
    "PR8_aucs = [0.6309523809523809, 0.4523809523809524, 0.6190476190476191, 0.7380952380952381, 0.7976190476190477, 0.7976190476190477, 0.8452380952380952, 0.8717948717948718, 0.9615384615384617, 0.9230769230769231]\n",
    "PR7_aucs = [0.6904761904761905, 0.7619047619047619, 0.7738095238095237, 0.8809523809523809, 0.7976190476190477, 0.8571428571428572, 0.8333333333333335, 0.7435897435897437, 0.8717948717948718, 0.7846153846153847]\n",
    "PR6_aucs = [0.738095238095238, 0.7738095238095237, 0.7976190476190476, 0.9047619047619049, 0.7738095238095238, 0.8214285714285714, 0.6785714285714286, 0.7692307692307693, 0.8076923076923077, 0.7384615384615385]\n",
    "PR5_aucs = [0.5952380952380952, 0.75, 0.5714285714285714, 0.7261904761904762, 0.7857142857142858, 0.5833333333333334, 0.9285714285714286, 0.8846153846153847, 0.8461538461538463, 1.0]\n",
    "PR4_aucs = [0.4404761904761905, 0.6904761904761905, 0.9523809523809524, 0.7142857142857143, 0.9166666666666667, 0.8333333333333334, 0.8333333333333335, 0.7948717948717949, 0.8974358974358975, 0.8153846153846154]\n",
    "PR3_aucs = [0.5833333333333333, 0.8333333333333333, 0.6785714285714286, 0.8333333333333334, 0.8333333333333335, 0.7380952380952381, 0.8452380952380953, 1.0, 1.0, 0.8769230769230769]\n",
    "PR2_aucs = [0.5357142857142857, 0.7261904761904762, 0.7261904761904763, 0.9047619047619049, 0.9107142857142858, 0.8690476190476191, 0.8690476190476191, 0.8012820512820513, 1.0, 0.8461538461538461]\n",
    "PR1_aucs = [0.5535714285714286, 0.6309523809523809, 0.7023809523809523, 0.7619047619047619, 0.5178571428571429, 0.3214285714285714, 0.4464285714285714, 0.7243589743589743, 0.3782051282051282, 0.6000000000000001]\n"
   ]
  },
  {
   "cell_type": "code",
   "execution_count": null,
   "metadata": {},
   "outputs": [],
   "source": []
  }
 ],
 "metadata": {
  "kernelspec": {
   "display_name": "env_tf1",
   "language": "python",
   "name": "env_tf1"
  },
  "language_info": {
   "codemirror_mode": {
    "name": "ipython",
    "version": 2
   },
   "file_extension": ".py",
   "mimetype": "text/x-python",
   "name": "python",
   "nbconvert_exporter": "python",
   "pygments_lexer": "ipython2",
   "version": "2.7.18"
  }
 },
 "nbformat": 4,
 "nbformat_minor": 4
}
